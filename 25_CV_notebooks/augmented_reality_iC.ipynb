{
 "cells": [
  {
   "cell_type": "code",
   "execution_count": null,
   "metadata": {},
   "outputs": [],
   "source": [
    "import cv2\n",
    "import numpy as np\n",
    "\n",
    "import matplotlib.pyplot as plt\n",
    "plt.rcParams['axes.labelsize'] = 18\n",
    "plt.rcParams['xtick.labelsize'] = 14\n",
    "plt.rcParams['ytick.labelsize'] = 14\n",
    "%matplotlib inline \n",
    "\n",
    "# checkerboard calibration: size of square in meter\n",
    "sc = 0.00573"
   ]
  },
  {
   "cell_type": "code",
   "execution_count": null,
   "metadata": {},
   "outputs": [],
   "source": [
    "# load camera calibration and pose for a given filename\n",
    "\n",
    "file_number=8\n",
    "\n",
    "npz=np.load('calibration.npz')\n",
    "\n",
    "camera_matrix = npz['arr_0'] \n",
    "dist_coefs = npz['arr_1']\n",
    "tvec = npz['arr_2'][file_number]\n",
    "rvec = npz['arr_3'][file_number]\n",
    "working = npz['arr_4'][file_number]\n",
    "\n",
    "print('working on image: ', working)\n",
    "\n",
    "img = cv2.imread(working)"
   ]
  },
  {
   "cell_type": "code",
   "execution_count": null,
   "metadata": {},
   "outputs": [],
   "source": [
    "# define points in checkerboard coordinate system , \n",
    "# then project them into the image coordinate system using the pose and camera parameters \n",
    "\n",
    "origin_3D = np.zeros((1, 3), np.float32) \n",
    "\n",
    "origin_2D, jac = cv2.projectPoints(origin_3D, rvec, tvec, camera_matrix, dist_coefs)\n",
    "print(origin_3D, 'becomes', origin_2D[0,0].astype(int))"
   ]
  },
  {
   "cell_type": "code",
   "execution_count": null,
   "metadata": {},
   "outputs": [],
   "source": [
    "# second point for z coordinate axis, length is 3 squares \n",
    "z = np.zeros((1, 3), np.float32)\n",
    "z[0,2] = -3 * sc     # negative!\n",
    "z_axis, jac = cv2.projectPoints(z, rvec, tvec, camera_matrix, dist_coefs)\n",
    "print(z, 'becomes', z_axis[0,0].astype(int))"
   ]
  },
  {
   "cell_type": "code",
   "execution_count": null,
   "metadata": {},
   "outputs": [],
   "source": [
    "# draw blue line into image\n",
    "img = cv2.line(img, tuple(origin_2D[0,0].astype(int)), tuple(z_axis[0,0].astype(int)), (0,0,255), 20)\n",
    "\n",
    "plt.figure(figsize =(14,8))\n",
    "plt.imshow(cv2.cvtColor(img,cv2.COLOR_BGR2RGB))\n",
    "plt.axis('off')\n",
    "plt.show()"
   ]
  },
  {
   "cell_type": "markdown",
   "metadata": {},
   "source": [
    "## Exercise: draw x-axis in red, and y-axis in green"
   ]
  },
  {
   "cell_type": "code",
   "execution_count": null,
   "metadata": {},
   "outputs": [],
   "source": []
  }
 ],
 "metadata": {
  "kernelspec": {
   "display_name": "Python 3 (ipykernel)",
   "language": "python",
   "name": "python3"
  },
  "language_info": {
   "codemirror_mode": {
    "name": "ipython",
    "version": 3
   },
   "file_extension": ".py",
   "mimetype": "text/x-python",
   "name": "python",
   "nbconvert_exporter": "python",
   "pygments_lexer": "ipython3",
   "version": "3.11.5"
  }
 },
 "nbformat": 4,
 "nbformat_minor": 4
}

{
 "cells": [
  {
   "cell_type": "code",
   "execution_count": null,
   "metadata": {},
   "outputs": [],
   "source": [
    "import matplotlib.pyplot as plt\n",
    "plt.rcParams['axes.labelsize'] = 20\n",
    "plt.rcParams['xtick.labelsize'] = 14\n",
    "plt.rcParams['ytick.labelsize'] = 14\n",
    "%matplotlib inline\n",
    "import numpy as np\n",
    "\n",
    "import cv2\n",
    "\n",
    "from skimage.io import imread\n",
    "from skimage import color \n",
    "\n",
    "# images and idea: Christian Dullin"
   ]
  },
  {
   "cell_type": "code",
   "execution_count": null,
   "metadata": {},
   "outputs": [],
   "source": [
    "img = np.array(imread('example.png'))\n",
    "\n",
    "plt.figure(figsize=(6,6))\n",
    "plt.imshow(img,  cmap='gray')\n",
    "plt.axis('off')\n",
    "plt.title('the raw image', fontsize=20)\n",
    "plt.show()"
   ]
  },
  {
   "cell_type": "code",
   "execution_count": null,
   "metadata": {},
   "outputs": [],
   "source": [
    "# calculation of the contours in the images\n",
    "\n",
    "# cv.findContours(image, mode, method [, contours[, hierarchy[, offset]]])\n",
    "#\n",
    "# mode: cv2.RETR_LIST: retrieves all of the contours without establishing any hierarchical relationships. \n",
    "#\n",
    "# method: cv2.CHAIN_APPROX_NONE: stores absolutely all the contour points. That is, any 2 \n",
    "# subsequent points (x1,y1) and (x2,y2) of the contour will be either horizontal, vertical or diagonal neig\n",
    "cont,hierarchy=cv2.findContours(img, cv2.RETR_LIST,cv2.CHAIN_APPROX_NONE)"
   ]
  },
  {
   "cell_type": "code",
   "execution_count": null,
   "metadata": {},
   "outputs": [],
   "source": [
    "# create color image to draw contours\n",
    "img_c = color.gray2rgb(img)\n",
    "\n",
    "# cv.drawContours(image, contours, contourIdx, color, thickness)\n",
    "# contourIdx: Parameter indicating a contour to draw. If negative, all the contours are drawn. \n",
    "image_plus = cv2.drawContours(img_c, cont, -1, (255,0,0), 2)\n",
    "\n",
    "plt.figure(figsize=(6,6))\n",
    "plt.imshow(image_plus)\n",
    "plt.axis('off')\n",
    "plt.title('image with contours', fontsize=20)\n",
    "plt.show()"
   ]
  },
  {
   "cell_type": "code",
   "execution_count": null,
   "metadata": {},
   "outputs": [],
   "source": [
    "# generation of an array for the fourier descriptors\n",
    "FD = np.zeros([len(cont),100],dtype=complex)\n",
    "\n",
    "\n",
    "# analyze all contours\n",
    "for i in range(len(cont)):        \n",
    "    \n",
    "    # if we would need very good scale invariance\n",
    "    # this would be the point to interpolate all \n",
    "    # contours so that they have the same length\n",
    "    \n",
    "    # interpret the contour as a complex number\n",
    "    v=np.zeros([len(cont[i])],dtype=complex)   \n",
    "    \n",
    "    # convert each contour point into a complex number\n",
    "    for j in range(0,len(cont[i])):\n",
    "        v[j]=cont[i][:,0][j,0]  +1j*cont[i][:,0][j,1]\n",
    "    \n",
    "    # compute the actual Fourier descriptors, keep the first 100\n",
    "    # we scale with the length of the contour, given by v.shape[0] -> some scale invariance\n",
    "    FD[i,:]=np.fft.fft(v)[0:100]/v.shape[0]\n"
   ]
  },
  {
   "cell_type": "code",
   "execution_count": null,
   "metadata": {},
   "outputs": [],
   "source": [
    "from sklearn.cluster import KMeans\n",
    "from sklearn import preprocessing\n",
    "\n",
    "# finally use KMeans to cluster the fourier descriptors\n",
    "# Note: don't use the 0 order harmonic since it depends on the position of the object\n",
    "# already a few harmonics are sufficient\n",
    "# we use the absolute value of the complex fourier descriptors since the phase depends on the orientation of the object\n",
    "# we scale with the length of the contour, given by v.shape[0] -> soem scale invariance\n",
    "# we normalize the feature space\n",
    "X=preprocessing.normalize(np.absolute(FD[:,1:5]))\n",
    "kmeans=KMeans(n_clusters=2, n_init= 10).fit(X)\n",
    "\n",
    "print(kmeans.labels_)"
   ]
  },
  {
   "cell_type": "code",
   "execution_count": null,
   "metadata": {},
   "outputs": [],
   "source": [
    "# show result of clustering\n",
    "img_f = color.gray2rgb(img)\n",
    "#loop through all of the contours\n",
    "for i in range(len(cont)):\n",
    "    red = 0\n",
    "    blue = 0\n",
    "    if kmeans.labels_[i] == 0:\n",
    "        red =255\n",
    "    if kmeans.labels_[i] == 1:\n",
    "        blue =255\n",
    "        \n",
    "    img_f=cv2.drawContours(img_f,[cont[i]],0,(red,0,blue),2)\n",
    "    \n",
    "plt.figure(figsize=(6,6))\n",
    "plt.imshow(img_f)\n",
    "plt.axis('off')\n",
    "plt.title('letters, identified', fontsize=20)\n",
    "plt.show()    "
   ]
  },
  {
   "cell_type": "markdown",
   "metadata": {},
   "source": [
    "## Exercise: identify all three types of letters in the next image"
   ]
  },
  {
   "cell_type": "code",
   "execution_count": null,
   "metadata": {},
   "outputs": [],
   "source": [
    "img = np.array(imread('example_1.png'))\n",
    "plt.figure(figsize=(6,6))\n",
    "plt.imshow(img,  cmap='gray')\n",
    "plt.axis('off')\n",
    "plt.title('the raw image', fontsize=20)\n",
    "plt.show()"
   ]
  }
 ],
 "metadata": {
  "kernelspec": {
   "display_name": "Python 3 (ipykernel)",
   "language": "python",
   "name": "python3"
  },
  "language_info": {
   "codemirror_mode": {
    "name": "ipython",
    "version": 3
   },
   "file_extension": ".py",
   "mimetype": "text/x-python",
   "name": "python",
   "nbconvert_exporter": "python",
   "pygments_lexer": "ipython3",
   "version": "3.9.16"
  }
 },
 "nbformat": 4,
 "nbformat_minor": 2
}

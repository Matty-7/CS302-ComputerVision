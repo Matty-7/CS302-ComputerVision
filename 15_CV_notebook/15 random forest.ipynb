{
 "cells": [
  {
   "cell_type": "code",
   "execution_count": null,
   "metadata": {},
   "outputs": [],
   "source": [
    "import numpy as np\n",
    "from matplotlib import pyplot as plt\n",
    "plt.rcParams['axes.labelsize'] = 17\n",
    "plt.rcParams['xtick.labelsize'] = 14\n",
    "plt.rcParams['ytick.labelsize'] = 14\n",
    "plt.rc('axes', unicode_minus=False)\n",
    "%matplotlib inline\n",
    "\n",
    "from sklearn.datasets import make_moons\n",
    "from sklearn.model_selection import train_test_split\n",
    "from sklearn.metrics import accuracy_score\n",
    "\n",
    "from sklearn.ensemble import RandomForestClassifier"
   ]
  },
  {
   "cell_type": "code",
   "execution_count": null,
   "metadata": {},
   "outputs": [],
   "source": [
    "# create binary dataset \n",
    "X, y = make_moons(n_samples=2000, noise=0.2, random_state=42)\n",
    "X_train, X_test, y_train, y_test = train_test_split(X, y, random_state=42)\n",
    "\n",
    "# plot train data\n",
    "from matplotlib.colors import ListedColormap\n",
    "cm_tree = ListedColormap(['#e58139','#399de5'])  # colors are chosen to coincide with decision tree\n",
    "\n",
    "plt.figure(figsize=(7, 7))\n",
    "plt.scatter(X_train[:, 0], X_train[:, 1], c=y_train, cmap=cm_tree, edgecolors='k')\n",
    "\n",
    "plt.xlabel('feature $x_0$')\n",
    "plt.ylabel('feature $x_1$')\n",
    " \n",
    "plt.show()"
   ]
  },
  {
   "cell_type": "code",
   "execution_count": null,
   "metadata": {},
   "outputs": [],
   "source": [
    "from sklearn.ensemble import RandomForestClassifier\n",
    "rnd_clf = RandomForestClassifier(n_estimators=500, max_leaf_nodes=30, n_jobs=-1, random_state=42)\n",
    "for parameter in rnd_clf.get_params():\n",
    "    print(parameter)"
   ]
  },
  {
   "cell_type": "code",
   "execution_count": null,
   "metadata": {},
   "outputs": [],
   "source": [
    "# training of the random forest\n",
    "rnd_clf.fit(X_train, y_train)"
   ]
  },
  {
   "cell_type": "code",
   "execution_count": null,
   "metadata": {},
   "outputs": [],
   "source": [
    "# accuracy\n",
    "y_pred_train = rnd_clf.predict(X_train)\n",
    "print('training accuracy:', accuracy_score(y_train, y_pred_train))\n",
    "\n",
    "y_pred_test = rnd_clf.predict(X_test)\n",
    "print('test accuracy:', accuracy_score(y_test, y_pred_test))"
   ]
  },
  {
   "cell_type": "code",
   "execution_count": null,
   "metadata": {},
   "outputs": [],
   "source": [
    "# plot decision boundary\n",
    "h = .004  # step size in the mesh\n",
    "\n",
    "plt.figure(figsize=(7, 7))\n",
    "\n",
    "# determine boundaries\n",
    "x1_min, x1_max = X[:, 0].min() - .5, X[:, 0].max() + .5\n",
    "x2_min, x2_max = X[:, 1].min() - .5, X[:, 1].max() + .5\n",
    "\n",
    "# assign decision tree predictions to each mesh point\n",
    "xx, yy = np.meshgrid(np.arange(x1_min, x1_max, h), np.arange(x2_min, x2_max, h))\n",
    "Z = rnd_clf.predict(np.c_[xx.ravel(), yy.ravel()])\n",
    "Z = Z.reshape(xx.shape)\n",
    "\n",
    "# plot training data\n",
    "plt.scatter(X_train[:, 0], X_train[:, 1], c=y_train,  cmap=cm_tree, edgecolors='k', alpha = 0.2)\n",
    "\n",
    "# plot decision boundary\n",
    "plt.contourf(xx, yy, Z, cmap=cm_tree, alpha=.2)\n",
    "\n",
    "plt.xlabel('feature $x_0$')\n",
    "plt.ylabel('feature $x_1$')\n",
    " \n",
    "plt.show()"
   ]
  },
  {
   "cell_type": "code",
   "execution_count": null,
   "metadata": {},
   "outputs": [],
   "source": []
  }
 ],
 "metadata": {
  "kernelspec": {
   "display_name": "Python 3 (ipykernel)",
   "language": "python",
   "name": "python3"
  },
  "language_info": {
   "codemirror_mode": {
    "name": "ipython",
    "version": 3
   },
   "file_extension": ".py",
   "mimetype": "text/x-python",
   "name": "python",
   "nbconvert_exporter": "python",
   "pygments_lexer": "ipython3",
   "version": "3.9.16"
  }
 },
 "nbformat": 4,
 "nbformat_minor": 4
}

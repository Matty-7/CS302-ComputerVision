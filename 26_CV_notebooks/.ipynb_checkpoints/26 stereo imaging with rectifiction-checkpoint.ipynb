{
 "cells": [
  {
   "cell_type": "code",
   "execution_count": null,
   "metadata": {},
   "outputs": [],
   "source": [
    "import numpy as np\n",
    "from matplotlib import pyplot as plt\n",
    "plt.rcParams['axes.labelsize'] = 18\n",
    "plt.rcParams['xtick.labelsize'] = 14\n",
    "plt.rcParams['ytick.labelsize'] = 14\n",
    "%matplotlib inline \n",
    "\n",
    "import cv2\n",
    "\n",
    "from skimage.io import imread\n",
    "from skimage import color"
   ]
  },
  {
   "cell_type": "code",
   "execution_count": null,
   "metadata": {},
   "outputs": [],
   "source": [
    "# images from Hyunsuk Ko\n",
    "# https://mcl.usc.edu/mcl-ss-database/\n",
    "\n",
    "left = imread('set1_L_zrotation.jpg')\n",
    "right = imread('set1_R_zrotation.jpg')\n",
    "\n",
    "plt.figure(figsize=(18,11))\n",
    "\n",
    "plt.subplot(121)\n",
    "plt.imshow(left)\n",
    "plt.axis('off')\n",
    "plt.title('left eye', fontsize=20)\n",
    "\n",
    "plt.subplot(122)\n",
    "plt.imshow(right)\n",
    "plt.axis('off')\n",
    "plt.title('right eye', fontsize=20)\n",
    "\n",
    "plt.show()"
   ]
  },
  {
   "cell_type": "markdown",
   "metadata": {},
   "source": [
    "## we want to determine the fundamental matrix so we search for matching points"
   ]
  },
  {
   "cell_type": "code",
   "execution_count": null,
   "metadata": {},
   "outputs": [],
   "source": [
    "# find the keypoints and descriptors with SIFT\n",
    "descriptor = cv2.SIFT_create()\n",
    "\n",
    "left_g = np.uint8(color.rgb2gray(left)*255)\n",
    "kp_left, des_left = descriptor.detectAndCompute(left_g, None)\n",
    "\n",
    "right_g = np.uint8(color.rgb2gray(right)*255)\n",
    "kp_right, des_right = descriptor.detectAndCompute(right_g, None)"
   ]
  },
  {
   "cell_type": "code",
   "execution_count": null,
   "metadata": {},
   "outputs": [],
   "source": [
    "# find matches \n",
    "FLANN_INDEX_KDTREE = 1\n",
    "index_params = dict(algorithm = FLANN_INDEX_KDTREE, trees = 5)\n",
    "search_params = dict(checks=50)\n",
    "flann = cv2.FlannBasedMatcher(index_params,search_params)\n",
    "matches = flann.knnMatch(des_left,des_right,k=2)"
   ]
  },
  {
   "cell_type": "code",
   "execution_count": null,
   "metadata": {},
   "outputs": [],
   "source": [
    "# ratio test as per Lowe's criterion\n",
    "ratio = 0.7 # distance threshold between first and second best match\n",
    "\n",
    "pts1 = []\n",
    "pts2 = []\n",
    "good_matches = []\n",
    "\n",
    "for i,(best,second) in enumerate(matches):\n",
    "    if best.distance < ratio *second.distance:\n",
    "        print(best.distance, second.distance)\n",
    "        pts2.append(kp_right[best.trainIdx].pt)\n",
    "        pts1.append(kp_left[best.queryIdx].pt)\n",
    "        good_matches.append(best)"
   ]
  },
  {
   "cell_type": "code",
   "execution_count": null,
   "metadata": {},
   "outputs": [],
   "source": [
    "# Draw matches\n",
    "img_matches = np.empty((max(left.shape[0], right.shape[0]), left.shape[1]+right.shape[1], 3), dtype=np.uint8)\n",
    "matches_img = cv2.drawMatches(left, kp_left, right, kp_right, good_matches, img_matches, \n",
    "          flags=cv2.DrawMatchesFlags_NOT_DRAW_SINGLE_POINTS)\n",
    "\n",
    "plt.figure(figsize=(18,10))\n",
    "plt.imshow(matches_img)\n",
    "plt.axis('off')\n",
    "plt.title('the good matches', fontsize=20)\n",
    "plt.show()"
   ]
  },
  {
   "cell_type": "markdown",
   "metadata": {},
   "source": [
    "## we compute the fundamental matrix from the matching keypoints"
   ]
  },
  {
   "cell_type": "code",
   "execution_count": null,
   "metadata": {},
   "outputs": [],
   "source": [
    "pts1 = np.int32(pts1)\n",
    "pts2 = np.int32(pts2)\n",
    "\n",
    "F, mask = cv2.findFundamentalMat(pts1,pts2,cv2.FM_LMEDS)\n",
    "F, mask = cv2.findFundamentalMat(pts1,pts2,cv2.FM_LMEDS)\n",
    "F, mask = cv2.findFundamentalMat(pts1,pts2,cv2.FM_LMEDS)\n",
    "F, mask = cv2.findFundamentalMat(pts1,pts2,cv2.FM_LMEDS)\n",
    "F, mask = cv2.findFundamentalMat(pts1,pts2,cv2.FM_LMEDS)\n",
    "\n",
    "print(F)"
   ]
  },
  {
   "cell_type": "code",
   "execution_count": null,
   "metadata": {},
   "outputs": [],
   "source": [
    "# We keep only inlier points\n",
    "pts1 = pts1[mask.ravel()==1]\n",
    "pts2 = pts2[mask.ravel()==1]"
   ]
  },
  {
   "cell_type": "markdown",
   "metadata": {},
   "source": [
    "## Visualize epilines"
   ]
  },
  {
   "cell_type": "code",
   "execution_count": null,
   "metadata": {},
   "outputs": [],
   "source": [
    "# Adapted from: https://docs.opencv.org/master/da/de9/tutorial_py_epipolar_geometry.html\n",
    "def drawlines(img1, img2, lines, pts1src, pts2src):\n",
    "    # img1 - image on which we draw the epilines for the points in img2\n",
    "    r, c ,_= img1.shape\n",
    "    \n",
    "    # use the same random seed so that two images are comparable!\n",
    "    np.random.seed(0)\n",
    "    \n",
    "    for r, pt1, pt2 in zip(lines, pts1src, pts2src):\n",
    "        color = tuple(np.random.randint(0, 255, 3).tolist())\n",
    "        x0, y0 = map(int, [0, -r[2]/r[1]])\n",
    "        x1, y1 = map(int, [c, -(r[2]+r[0]*c)/r[1]])\n",
    "        img1 = cv2.line(img1, (x0, y0), (x1, y1), color, 1)\n",
    "        img1 = cv2.circle(img1, tuple(pt1), 5, color, 3)\n",
    "        img2 = cv2.circle(img2, tuple(pt2), 5, color, 3)\n",
    "    return img1, img2\n"
   ]
  },
  {
   "cell_type": "code",
   "execution_count": null,
   "metadata": {},
   "outputs": [],
   "source": [
    "# Find epilines corresponding to points in right image (second image) and\n",
    "# drawing its lines on left image\n",
    "lines1 = cv2.computeCorrespondEpilines(pts2.reshape(-1,1,2), 2,F)\n",
    "lines1 = lines1.reshape(-1,3)\n",
    "epi_left, _ = drawlines(np.copy(left),np.copy(right),lines1,pts1,pts2)\n",
    "\n",
    "#Find epilines corresponding to points in left image (first image) and\n",
    "# drawing its lines on right image\n",
    "lines2 = cv2.computeCorrespondEpilines(pts1.reshape(-1,1,2), 1,F)\n",
    "lines2 = lines2.reshape(-1,3)\n",
    "epi_right, _ = drawlines(np.copy(right),np.copy(left),lines2,pts2,pts1)\n",
    "\n",
    "\n",
    "plt.figure(figsize=(18,10))\n",
    "plt.subplot(121)\n",
    "plt.imshow(epi_left)\n",
    "plt.axis('off')\n",
    "plt.subplot(122)\n",
    "plt.imshow(epi_right)\n",
    "plt.axis('off')\n",
    "plt.show()"
   ]
  },
  {
   "cell_type": "markdown",
   "metadata": {},
   "source": [
    "## warp images so that they correspond to simple stereo"
   ]
  },
  {
   "cell_type": "code",
   "execution_count": null,
   "metadata": {},
   "outputs": [],
   "source": [
    "# Stereo rectification (uncalibrated variant)\n",
    "# if we had calibrated cameras, we could use cv2.stereoRectify\n",
    "# Adapted from: https://stackoverflow.com/a/62607343\n",
    "h1, w1,_ = left.shape\n",
    "h2, w2,_ = right.shape\n",
    "_, H1, H2 = cv2.stereoRectifyUncalibrated(np.float32(pts1), np.float32(pts2), F, imgSize=(w1, h1))\n",
    "\n",
    "# Undistort (rectify) the images \n",
    "left_rectified = cv2.warpPerspective(left, H1, (w1, h1))\n",
    "right_rectified = cv2.warpPerspective(right, H2, (w2, h2))\n",
    "\n",
    "# now epilines are horizontal and at the same height in both images\n",
    "\n",
    "plt.figure(figsize=(18,10))\n",
    "plt.subplot(121)\n",
    "plt.imshow(left_rectified)\n",
    "plt.axis('off')\n",
    "\n",
    "plt.subplot(122)\n",
    "plt.imshow(right_rectified)\n",
    "plt.axis('off')\n",
    "\n",
    "plt.show()"
   ]
  },
  {
   "cell_type": "code",
   "execution_count": null,
   "metadata": {},
   "outputs": [],
   "source": [
    "# replace images with rectified grayscale images\n",
    "left = np.uint8(color.rgb2gray(left_rectified)*255)\n",
    "right = np.uint8(color.rgb2gray(right_rectified)*255)"
   ]
  },
  {
   "cell_type": "markdown",
   "metadata": {},
   "source": [
    "## compute disparity map"
   ]
  },
  {
   "cell_type": "code",
   "execution_count": null,
   "metadata": {},
   "outputs": [],
   "source": [
    "window_size = 5\n",
    "\n",
    "# Creating an object of StereoSGBM algorithm\n",
    "stereo = cv2.StereoSGBM_create(\n",
    "        minDisparity = -30,              # minimum possible disparity\n",
    "        numDisparities = 70,             # range of disparities\n",
    "        blockSize = window_size,         # matchd block\n",
    "        P1=8 * 3 * window_size ** 2,     # threshold controlling disparity smoothness\n",
    "        P2=32 * 3 * window_size ** 2,    # threshold controlling disparity smoothness\n",
    "        disp12MaxDiff =-1,               # an additional check, -1 is switched of\n",
    "        uniquenessRatio = 5,             # percentage the best match needs to win over second to be considered correct\n",
    "        speckleWindowSize = 0,           # speckle filtering based on region size, 0 means off\n",
    "        speckleRange = 2,                # speckle filtering based on region size\n",
    "        preFilterCap=0,\n",
    "        mode=cv2.STEREO_SGBM_MODE_SGBM_3WAY\n",
    "    )\n",
    "# Calculating disparity using the StereoSGBM algorithm\n",
    "disp = stereo.compute(left, right).astype(np.float32)\n",
    "#disp = cv2.normalize(disp,0,255,cv2.NORM_MINMAX)   # rescaling if depth range is small \n",
    "\n",
    "plt.figure(figsize=(14,9))\n",
    "plt.imshow(disp, cmap= 'gray')\n",
    "plt.axis('off')\n",
    "plt.title('disparity', fontsize=20)\n",
    "\n",
    "plt.show()"
   ]
  },
  {
   "cell_type": "code",
   "execution_count": null,
   "metadata": {},
   "outputs": [],
   "source": []
  }
 ],
 "metadata": {
  "kernelspec": {
   "display_name": "Python 3 (ipykernel)",
   "language": "python",
   "name": "python3"
  },
  "language_info": {
   "codemirror_mode": {
    "name": "ipython",
    "version": 3
   },
   "file_extension": ".py",
   "mimetype": "text/x-python",
   "name": "python",
   "nbconvert_exporter": "python",
   "pygments_lexer": "ipython3",
   "version": "3.11.5"
  }
 },
 "nbformat": 4,
 "nbformat_minor": 2
}

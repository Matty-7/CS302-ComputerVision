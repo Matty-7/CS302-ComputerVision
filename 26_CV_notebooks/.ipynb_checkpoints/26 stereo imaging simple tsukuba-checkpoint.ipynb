{
 "cells": [
  {
   "cell_type": "code",
   "execution_count": null,
   "metadata": {},
   "outputs": [],
   "source": [
    "import numpy as np\n",
    "from matplotlib import pyplot as plt\n",
    "plt.rcParams['axes.labelsize'] = 18\n",
    "plt.rcParams['xtick.labelsize'] = 14\n",
    "plt.rcParams['ytick.labelsize'] = 14\n",
    "%matplotlib inline \n",
    "\n",
    "import cv2\n",
    "\n",
    "from skimage.io import imread\n",
    "from skimage import color"
   ]
  },
  {
   "cell_type": "code",
   "execution_count": null,
   "metadata": {},
   "outputs": [],
   "source": [
    "left = imread('tsukuba_col1.ppm')\n",
    "right = imread('tsukuba_col3.ppm')\n",
    "\n",
    "plt.figure(figsize=(18,9))\n",
    "\n",
    "plt.subplot(121)\n",
    "plt.imshow(left, cmap = 'gray')\n",
    "plt.axis('off')\n",
    "plt.title('left eye', fontsize=20)\n",
    "\n",
    "plt.subplot(122)\n",
    "plt.imshow(right, cmap = 'gray')\n",
    "plt.axis('off')\n",
    "plt.title('right eye', fontsize=20)\n",
    "\n",
    "plt.show()"
   ]
  },
  {
   "cell_type": "code",
   "execution_count": null,
   "metadata": {},
   "outputs": [],
   "source": [
    "window_size = 5\n",
    "# Creating an object of StereoSGBM algorithm\n",
    "stereo = cv2.StereoSGBM_create(\n",
    "        minDisparity = 0,\n",
    "        numDisparities = 30,\n",
    "        blockSize = window_size,\n",
    "        P1=8 * 3 * window_size ** 2,    \n",
    "        P2=32 * 3 * window_size ** 2,\n",
    "        disp12MaxDiff = -1,     # -1 means off\n",
    "        uniquenessRatio = 20,\n",
    "        speckleWindowSize = 3,   # 0 means off\n",
    "        speckleRange = 2,\n",
    "        preFilterCap=0,\n",
    "        mode=cv2.STEREO_SGBM_MODE_SGBM_3WAY\n",
    "    )\n",
    "\n",
    "# Calculating disparity using the StereoSGBM algorithm\n",
    "disp = stereo.compute(left, right).astype(np.float32)\n",
    "disp = cv2.normalize(disp,0,255,cv2.NORM_MINMAX)\n",
    "\n",
    "plt.figure(figsize=(9,7))\n",
    "plt.imshow(disp, 'gray')\n",
    "plt.axis('off')\n",
    "plt.title('disparity', fontsize=20)\n",
    "\n",
    "plt.show()"
   ]
  },
  {
   "cell_type": "code",
   "execution_count": null,
   "metadata": {},
   "outputs": [],
   "source": []
  },
  {
   "cell_type": "code",
   "execution_count": null,
   "metadata": {},
   "outputs": [],
   "source": []
  }
 ],
 "metadata": {
  "kernelspec": {
   "display_name": "Python 3 (ipykernel)",
   "language": "python",
   "name": "python3"
  },
  "language_info": {
   "codemirror_mode": {
    "name": "ipython",
    "version": 3
   },
   "file_extension": ".py",
   "mimetype": "text/x-python",
   "name": "python",
   "nbconvert_exporter": "python",
   "pygments_lexer": "ipython3",
   "version": "3.11.5"
  }
 },
 "nbformat": 4,
 "nbformat_minor": 2
}

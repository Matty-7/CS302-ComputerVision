{
 "cells": [
  {
   "cell_type": "code",
   "execution_count": null,
   "metadata": {},
   "outputs": [],
   "source": [
    "import keras\n",
    "from keras.datasets import mnist\n",
    "from keras.models import Sequential, Model\n",
    "from keras.layers import Dense,Conv2D,GlobalAveragePooling2D\n",
    "\n",
    "import numpy as np\n",
    "import matplotlib.pyplot as plt \n",
    "plt.rcParams['axes.labelsize'] = 18\n",
    "plt.rcParams['xtick.labelsize'] = 14\n",
    "plt.rcParams['ytick.labelsize'] = 14\n",
    "%matplotlib inline"
   ]
  },
  {
   "cell_type": "code",
   "execution_count": null,
   "metadata": {},
   "outputs": [],
   "source": [
    "# prepare data\n",
    "# input image dimensions\n",
    "img_rows, img_cols = 28, 28\n",
    "\n",
    "# split between training  and testing data sets\n",
    "(x_train, y_train), (x_test, y_test) = mnist.load_data()\n",
    "\n",
    "# add an extra dimension to adapt BW image to CNN\n",
    "x_train = x_train.reshape(x_train.shape[0], img_rows, img_cols, 1)\n",
    "x_test = x_test.reshape(x_test.shape[0], img_rows, img_cols, 1)\n",
    "\n",
    "# normalize data to float in range 0..1\n",
    "x_train = x_train.astype('float32')\n",
    "x_test = x_test.astype('float32')\n",
    "x_train /= 255\n",
    "x_test /= 255"
   ]
  },
  {
   "cell_type": "code",
   "execution_count": null,
   "metadata": {},
   "outputs": [],
   "source": [
    "# built a Convolutional Neural Network without max_pooling\n",
    "model = Sequential()\n",
    "model.add(Conv2D(16,input_shape=(28,28,1),kernel_size=(3,3),activation='relu',padding='same'))\n",
    "model.add(Conv2D(32,kernel_size=(3,3),activation='relu',padding='same'))\n",
    "model.add(Conv2D(64,kernel_size=(3,3),activation='relu',padding='same'))\n",
    "model.add(Conv2D(128,kernel_size=(3,3),activation='relu',padding='same'))\n",
    "model.add(GlobalAveragePooling2D())\n",
    "model.add(Dense(10,activation='softmax'))\n",
    "\n",
    "model.summary()\n",
    "\n",
    "model.compile(loss='sparse_categorical_crossentropy', # no need to use a one hot vector\n",
    "              metrics=['accuracy'],\n",
    "              optimizer='adam')"
   ]
  },
  {
   "cell_type": "code",
   "execution_count": null,
   "metadata": {},
   "outputs": [],
   "source": [
    "# load saved weights for the model\n",
    "# model.load_weights('CNN_for_CAM_20_epochs_32_batch.h5')\n",
    "\n",
    "\n",
    "# or train the model\n",
    "batch_size = 32\n",
    "epochs = 8\n",
    "\n",
    "history = model.fit(x_train, y_train,\n",
    "             batch_size=batch_size,\n",
    "             epochs=epochs,\n",
    "             verbose=1,\n",
    "             validation_data=(x_test, y_test))\n",
    "\n",
    "# save the weights\n",
    "model.save_weights('CNN_for_CAM_20_epochs_32_batch.h5')"
   ]
  },
  {
   "cell_type": "code",
   "execution_count": null,
   "metadata": {},
   "outputs": [],
   "source": [
    "score = model.evaluate(x_test, y_test, verbose=0)\n",
    "print('Test loss: {:.3}'.format(score[0]))\n",
    "print('Test accuracy: {:.3}'.format(score[1]))"
   ]
  },
  {
   "cell_type": "code",
   "execution_count": null,
   "metadata": {},
   "outputs": [],
   "source": [
    "# get weights connecting the last layer\n",
    "gap_weights = model.layers[-1].get_weights()[0]\n",
    "print('shape of gap_weights:', gap_weights.shape)\n",
    "\n",
    "print('how the last 128 convolution images contribute to detecting the number zero:')\n",
    "print(gap_weights[:,0])"
   ]
  },
  {
   "cell_type": "code",
   "execution_count": null,
   "metadata": {},
   "outputs": [],
   "source": [
    "# create a view on our model that gives us access to the output of \n",
    "# the convolution layer and the results\n",
    "cam_view  = Model(inputs=model.input,outputs=(model.layers[-3].output,model.layers[-1].output))\n",
    "cam_view.summary()"
   ]
  },
  {
   "cell_type": "code",
   "execution_count": null,
   "metadata": {},
   "outputs": [],
   "source": [
    "# make a prediction for the first images of the test dataset \n",
    "features,result= cam_view.predict(x_test[0:1,:,:,:])\n",
    "print(features.shape) \n",
    "# remove first axis\n",
    "feature_maps = features[0,:,:,:]\n",
    "print(feature_maps.shape) \n",
    "\n",
    "prediction =  np.argmax(result)\n",
    "print('predicted value:', prediction)"
   ]
  },
  {
   "cell_type": "code",
   "execution_count": null,
   "metadata": {},
   "outputs": [],
   "source": [
    "# preview 19 of the last convolution images for the first test image\n",
    "plt.figure(figsize=(12,10))\n",
    "x, y =5, 4\n",
    "\n",
    "plt.subplot(y, x, 1)\n",
    "plt.title('original image')\n",
    "plt.imshow(x_test[1].reshape((28,28)), cmap='gray')\n",
    "plt.colorbar()\n",
    "plt.axis('off')\n",
    "\n",
    "for idx in range(19):  \n",
    "    plt.subplot(y, x, idx+2)\n",
    "    plt.imshow(feature_maps[:,:,idx],cmap='plasma')\n",
    "    plt.title('number: {}'.format(idx))\n",
    "    plt.colorbar()\n",
    "    plt.axis('off')\n",
    "plt.show()"
   ]
  },
  {
   "cell_type": "code",
   "execution_count": null,
   "metadata": {},
   "outputs": [],
   "source": [
    "# compute the class activation matrix for \n",
    "weights_prediction = gap_weights[:,prediction]\n",
    "cam_output  = np.dot(feature_maps,weights_prediction)    \n",
    "\n",
    "print(cam_output.shape)\n",
    "\n",
    "\n",
    "plt.figure(figsize=(16,7))\n",
    "plt.subplot(1, 2, 1)\n",
    "plt.title('Predicted Class = {}, Probability = {:.3f}'.format(prediction,result[0][prediction]))\n",
    "plt.imshow(x_test[0].reshape((28,28)), cmap='gray')\n",
    "plt.colorbar()\n",
    "plt.axis('off')\n",
    "\n",
    "plt.subplot(1, 2, 2)\n",
    "plt.title('CAM: regions voting for target')\n",
    "plt.imshow(cam_output, cmap='jet')\n",
    "plt.colorbar()\n",
    "plt.axis('off')\n",
    "\n",
    "plt.show()\n"
   ]
  },
  {
   "cell_type": "markdown",
   "metadata": {},
   "source": [
    "####  Let's compute the Class Activation Map for the digit 8 (i.e. not the actual target value) "
   ]
  },
  {
   "cell_type": "code",
   "execution_count": null,
   "metadata": {},
   "outputs": [],
   "source": [
    "print('Probability for being an 8 = {:.3}'.format(result[0,8]))"
   ]
  },
  {
   "cell_type": "code",
   "execution_count": null,
   "metadata": {},
   "outputs": [],
   "source": [
    "# why is it not an eight?\n",
    "weights_8 = gap_weights[:,8] # get the weights for the digit 8\n",
    "cam_output_8  = np.dot(feature_maps,weights_8)  # the cam feature maps only depend on idx\n",
    "\n",
    "\n",
    "plt.figure(figsize=(7,7))\n",
    "plt.title('CAM: regions voting for digit 8')\n",
    "plt.imshow(cam_output_8, cmap='jet')\n",
    "plt.colorbar()\n",
    "plt.axis('off')\n",
    "plt.show()"
   ]
  },
  {
   "cell_type": "code",
   "execution_count": null,
   "metadata": {},
   "outputs": [],
   "source": []
  }
 ],
 "metadata": {
  "kernelspec": {
   "display_name": "Python 3 (ipykernel)",
   "language": "python",
   "name": "python3"
  },
  "language_info": {
   "codemirror_mode": {
    "name": "ipython",
    "version": 3
   },
   "file_extension": ".py",
   "mimetype": "text/x-python",
   "name": "python",
   "nbconvert_exporter": "python",
   "pygments_lexer": "ipython3",
   "version": "3.11.5"
  }
 },
 "nbformat": 4,
 "nbformat_minor": 4
}

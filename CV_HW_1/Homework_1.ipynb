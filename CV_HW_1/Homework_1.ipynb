{
 "cells": [
  {
   "cell_type": "markdown",
   "metadata": {},
   "source": [
    "# Homework 1"
   ]
  },
  {
   "cell_type": "markdown",
   "metadata": {},
   "source": [
    "## YOUR FULL NAME HERE\n",
    "Netid: Your netid here"
   ]
  },
  {
   "cell_type": "code",
   "execution_count": null,
   "metadata": {},
   "outputs": [],
   "source": [
    "import numpy as np\n",
    "from matplotlib import pyplot as plt\n",
    "plt.rcParams['axes.labelsize'] = 17\n",
    "plt.rcParams['xtick.labelsize'] = 14\n",
    "plt.rcParams['ytick.labelsize'] = 14\n",
    "%matplotlib inline "
   ]
  },
  {
   "cell_type": "markdown",
   "metadata": {},
   "source": [
    "## 1) Invert a region of interest\n",
    "**(2 points)**\n",
    "\n",
    "**a)** Load the astronaut.png image into Fiji and determine the coordinates of a box containing the space shuttle (in the upper right background of the image) by selecting it with the rectangle tool. Observe that Fiji assigns the first coordinate to columns and the second one to rows; numpy does the reverse. Write down the coordinates as variables. (*0.5 points*) \n",
    "\n",
    "**b)** Load astronaut.png as a B&W image into a notebook cell and cut out an ROI (region of interest) only containing the space shuttle. Invert the image of the space shuttle (i.e. map the grayvalues interval [0, 1]  to the intervall [1, 0]), then display the original and the inverted ROI next to each other. (*1 point*) \n",
    " \n",
    " \n",
    "**c)** Copy the inverted space shuttle back into the B&W image and display the modified image. (*0.5 points*)  "
   ]
  },
  {
   "cell_type": "markdown",
   "metadata": {},
   "source": [
    "**ANSWER**"
   ]
  },
  {
   "cell_type": "markdown",
   "metadata": {},
   "source": [
    "## 2) Visualize JPEG loss\n",
    "**(2 points)**\n",
    "\n",
    "Load astronaut.png and then save it twice as JPEG file (ending: .jpg) and as TIFF file (ending: .tif) (*0.5 point*). \n",
    "Load the JPEG and the TIFF file again from disk and convert all three images to B&W. (*0.5 point*) \n",
    "\n",
    "Compute the gray value difference between a) PNG and JPEG and b) PNG and TIFF. Display the *absolute values* of these difference images with colorbars. (*1 point*)  "
   ]
  },
  {
   "cell_type": "markdown",
   "metadata": {},
   "source": [
    "**ANSWER**"
   ]
  },
  {
   "cell_type": "markdown",
   "metadata": {},
   "source": [
    "## 3) The influence of saturation in HSV\n",
    "**(2 points)**\n",
    "\n",
    "Load flower.tif, convert it into the HSV colorspace. Create two new images where you set the saturation of all pixels to a) zero and b) one. Display the resulting images. (*1 point*) \n",
    "\n",
    "Explain your results in two sentences. (*1 point*)"
   ]
  },
  {
   "cell_type": "markdown",
   "metadata": {},
   "source": [
    "**ANSWER**"
   ]
  },
  {
   "cell_type": "markdown",
   "metadata": {},
   "source": [
    "## 4) White balance\n",
    "**(3 points)**\n",
    "\n",
    "Find out how the white balance (sometimes also called color balance) in your camera is controlled. It will have several options such as daylight, incandescent, fluorescent ... and will most likely be set to auto. The purpose of this control is to compensate the influence of the spectral composition of the light illuminating the the scene you are about to photograph.\n",
    "\n",
    "Take two images of the same scene (should be well iluminated and contain a variety of colors). One image should be taken using the daylight option and one image with any of the other options. Save them (JPEG is fine here) and load them into your notebook. Display the two images in the notebook. (*1 point*) \n",
    "\n",
    "If your camera does not have a manual choice for the white balance, install another camera app on your smartphone (on Android, Camera Zoom FX works nicely. Don't forget to switch your camera back to auto afterwards; even if not perfect it will normally make a good guess which option to use.\n",
    "\n",
    "Separate both images in their RGB components. Create three figures where each one is comparing the histogram curves of one color channel in both images. (*1 point*) \n",
    "\n",
    "Both images were taken with light of roughly the same color distribution. Therefore, the differences in the histograms indicate what the camera assumes it needs to do in order to compensate for the differences in the spectra of the light sources. \n",
    "\n",
    "Describe qualitatively and in not more than three sentences *how* the camera thinks that the spectrum of daylight is differnt than the spectrum of your second choice light source.  "
   ]
  },
  {
   "cell_type": "markdown",
   "metadata": {},
   "source": [
    "**ANSWER**"
   ]
  }
 ],
 "metadata": {
  "kernelspec": {
   "display_name": "Python 3 (ipykernel)",
   "language": "python",
   "name": "python3"
  },
  "language_info": {
   "codemirror_mode": {
    "name": "ipython",
    "version": 3
   },
   "file_extension": ".py",
   "mimetype": "text/x-python",
   "name": "python",
   "nbconvert_exporter": "python",
   "pygments_lexer": "ipython3",
   "version": "3.11.5"
  },
  "varInspector": {
   "cols": {
    "lenName": 16,
    "lenType": 16,
    "lenVar": 40
   },
   "kernels_config": {
    "python": {
     "delete_cmd_postfix": "",
     "delete_cmd_prefix": "del ",
     "library": "var_list.py",
     "varRefreshCmd": "print(var_dic_list())"
    },
    "r": {
     "delete_cmd_postfix": ") ",
     "delete_cmd_prefix": "rm(",
     "library": "var_list.r",
     "varRefreshCmd": "cat(var_dic_list()) "
    }
   },
   "types_to_exclude": [
    "module",
    "function",
    "builtin_function_or_method",
    "instance",
    "_Feature"
   ],
   "window_display": false
  }
 },
 "nbformat": 4,
 "nbformat_minor": 2
}

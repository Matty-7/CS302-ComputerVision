{
 "cells": [
  {
   "cell_type": "code",
   "execution_count": null,
   "id": "0627629e",
   "metadata": {},
   "outputs": [],
   "source": [
    "import numpy as np\n",
    "import matplotlib.pyplot as plt\n",
    "plt.rcParams['axes.labelsize'] = 17\n",
    "plt.rcParams['xtick.labelsize'] = 14\n",
    "plt.rcParams['ytick.labelsize'] = 14\n",
    "plt.rc('axes', unicode_minus=False)\n",
    "%matplotlib inline\n",
    "\n",
    "from skimage.io import imread\n",
    "from skimage.transform import rotate"
   ]
  },
  {
   "cell_type": "code",
   "execution_count": null,
   "id": "2cd0baa4",
   "metadata": {},
   "outputs": [],
   "source": [
    "scene = imread('waldo_scene.tif')\n",
    "waldo = imread('waldo_bw_small.tif')\n",
    "\n",
    "# caveat:\n",
    "# correlation increases with the magnitude of the gray values. We want also black areas to be included\n",
    "# -> one solution is to subtract mean gray value\n",
    "scene = scene -np.mean(scene)\n",
    "waldo = waldo -np.mean(waldo)\n",
    "\n",
    "plt.figure(figsize=(18, 6))\n",
    "plt.subplot(121)\n",
    "plt.imshow(scene, cmap=plt.cm.gray)\n",
    "\n",
    "plt.colorbar()\n",
    "plt.title('scene', fontsize=20)\n",
    "\n",
    "plt.subplot(122)\n",
    "plt.imshow(waldo, cmap=plt.cm.gray)\n",
    "plt.colorbar()\n",
    "plt.title('waldo', fontsize=20)\n",
    "\n",
    "plt.show()"
   ]
  },
  {
   "cell_type": "code",
   "execution_count": null,
   "id": "fc923d4e",
   "metadata": {},
   "outputs": [],
   "source": [
    "# first we compute the correlation for the Waldo picture sitting on top the top right corner of the image\n",
    "h,w = waldo.shape\n",
    "\n",
    "corr = 0\n",
    "for k in range(h):\n",
    "    for l in range(w):\n",
    "        corr += (scene[k,l]*waldo[k,l])\n",
    "\n",
    "print('the correlation for the top left position is {:.2f}'.format(corr/(h*w)))        "
   ]
  },
  {
   "cell_type": "code",
   "execution_count": null,
   "id": "dce66e8a",
   "metadata": {},
   "outputs": [],
   "source": [
    "# let's loop over all possible positions for the Waldo template\n",
    "import time\n",
    "\n",
    "h_s,w_s = scene.shape\n",
    "\n",
    "corr = np.zeros((h_s-h, w_s-w))\n",
    "\n",
    "start = time.process_time()\n",
    "\n",
    "\n",
    "for m in range(h_s-h):    # loop over all rows of scene image\n",
    "    if (m%10 == 0):\n",
    "        print(m)\n",
    "    for n in range(w_s-w):  # loop over all columns of scene image\n",
    "        # compute correlation\n",
    "        for k in range(h):   # loop over all rows of Waldo image\n",
    "            for l in range(w):   # loop over all columns of Waldo image\n",
    "                corr[m,n] += (scene[m+k,n+l]*waldo[k,l])\n",
    "\n",
    "end = time.process_time()\n",
    "print('time: {:.2f} s'.format(end - start))                "
   ]
  },
  {
   "cell_type": "code",
   "execution_count": null,
   "id": "4ed01ef1",
   "metadata": {},
   "outputs": [],
   "source": [
    "plt.figure(figsize=(7, 7))\n",
    "plt.imshow(corr, cmap=plt.cm.gray)\n",
    "plt.title('correlation between scene and waldo', fontsize=17)\n",
    "plt.colorbar()\n",
    "plt.show()"
   ]
  },
  {
   "cell_type": "code",
   "execution_count": null,
   "id": "3b14b862",
   "metadata": {},
   "outputs": [],
   "source": [
    "# find the correlation maximum\n",
    "ind = np.unravel_index(np.argmax(corr, axis=None), corr.shape)\n",
    "print('the top left corner is at row {}, column {}'.format(ind[0], ind[1]))"
   ]
  },
  {
   "cell_type": "code",
   "execution_count": null,
   "id": "6e33e0a0",
   "metadata": {},
   "outputs": [],
   "source": [
    "# indicate found position (which is top, left of the square)\n",
    "work = np.copy(scene)\n",
    "waldo_found = waldo + 100\n",
    "work[ind[0]:ind[0]+h, ind[1]:ind[1]+w] = waldo_found\n",
    "\n",
    "plt.figure(figsize=(9, 9))\n",
    "plt.imshow(work, cmap=plt.cm.gray)\n",
    "plt.title('result', fontsize=20)\n",
    "plt.colorbar()\n",
    "plt.show()"
   ]
  },
  {
   "cell_type": "code",
   "execution_count": null,
   "id": "1e61879f",
   "metadata": {},
   "outputs": [],
   "source": []
  }
 ],
 "metadata": {
  "kernelspec": {
   "display_name": "Python 3 (ipykernel)",
   "language": "python",
   "name": "python3"
  },
  "language_info": {
   "codemirror_mode": {
    "name": "ipython",
    "version": 3
   },
   "file_extension": ".py",
   "mimetype": "text/x-python",
   "name": "python",
   "nbconvert_exporter": "python",
   "pygments_lexer": "ipython3",
   "version": "3.11.5"
  }
 },
 "nbformat": 4,
 "nbformat_minor": 5
}

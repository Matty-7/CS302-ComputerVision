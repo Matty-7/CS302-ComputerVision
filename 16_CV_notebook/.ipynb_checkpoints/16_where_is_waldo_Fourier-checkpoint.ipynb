{
 "cells": [
  {
   "cell_type": "code",
   "execution_count": null,
   "id": "8b972b4a",
   "metadata": {},
   "outputs": [],
   "source": [
    "import numpy as np\n",
    "import matplotlib.pyplot as plt\n",
    "plt.rcParams['axes.labelsize'] = 20\n",
    "plt.rcParams['xtick.labelsize'] = 14\n",
    "plt.rcParams['ytick.labelsize'] = 14      \n",
    "%matplotlib inline\n",
    "\n",
    "from skimage.io import imread\n",
    "from skimage.transform import rotate"
   ]
  },
  {
   "cell_type": "code",
   "execution_count": null,
   "id": "8d14ecc0",
   "metadata": {},
   "outputs": [],
   "source": [
    "scene = imread('waldo_scene.tif')\n",
    "waldo = imread('waldo_bw_small.tif')\n",
    "\n",
    "# caveat:\n",
    "# correlation increases with the magnitude of the gray values. We want also black areas to be included\n",
    "# -> one solution is to subtract mean gray value\n",
    "scene = scene -np.mean(scene)\n",
    "waldo = waldo -np.mean(waldo)\n",
    "\n",
    "\n",
    "plt.figure(figsize=(18, 6))\n",
    "plt.subplot(121)\n",
    "plt.imshow(scene, cmap=plt.cm.gray)\n",
    "plt.colorbar()\n",
    "plt.title('scene', fontsize=20)\n",
    "\n",
    "plt.subplot(122)\n",
    "plt.imshow(waldo, cmap=plt.cm.gray)\n",
    "plt.colorbar()\n",
    "plt.title('waldo', fontsize=20)\n",
    "\n",
    "plt.show()"
   ]
  },
  {
   "cell_type": "code",
   "execution_count": null,
   "id": "c96226b4",
   "metadata": {},
   "outputs": [],
   "source": [
    "# correlation is equal to convolution with 180 degree rotated template\n",
    "waldo_rotate = rotate(waldo, 180)"
   ]
  },
  {
   "cell_type": "code",
   "execution_count": null,
   "id": "ae9843e6",
   "metadata": {},
   "outputs": [],
   "source": [
    "# Fourier Transform  \n",
    "scene_fft = np.fft.fft2(scene)\n",
    "waldo_fft = np.fft.fft2(waldo_rotate, scene.shape) # the Fourier space dimensions have to be the same \n",
    "\n",
    "print(scene_fft.shape, waldo_fft.shape)"
   ]
  },
  {
   "cell_type": "code",
   "execution_count": null,
   "id": "02624825",
   "metadata": {},
   "outputs": [],
   "source": [
    "# compute convolution with rotated Waldo aka correlation with unrotated Waldo\n",
    "result = np.fft.ifft2(scene_fft * waldo_fft)\n",
    "\n",
    "plt.figure(figsize=(14, 7))\n",
    "plt.imshow(np.abs(result), cmap=plt.cm.gray)\n",
    "plt.title('correlation', fontsize=20)\n",
    "plt.colorbar()\n",
    "plt.show()"
   ]
  },
  {
   "cell_type": "code",
   "execution_count": null,
   "id": "b77fbbb0",
   "metadata": {},
   "outputs": [],
   "source": [
    "# find the correlation maximum\n",
    "ind = np.unravel_index(np.argmax(result, axis=None), result.shape)\n",
    "print('the bottom right corner is at row {}, column {}'.format(ind[0], ind[1]))"
   ]
  },
  {
   "cell_type": "code",
   "execution_count": null,
   "id": "204d010c",
   "metadata": {},
   "outputs": [],
   "source": [
    "# indicate found position (which is bottom right of the square)\n",
    "h,w = waldo.shape\n",
    "waldo_found = waldo + 100\n",
    "work = np.copy(scene)\n",
    "work[ind[0]-h:ind[0], ind[1]-w:ind[1]] = waldo_found\n",
    "\n",
    "plt.figure(figsize=(9, 9))\n",
    "plt.imshow(work, cmap=plt.cm.gray)\n",
    "plt.title('result', fontsize=20)\n",
    "plt.colorbar()\n",
    "plt.show()"
   ]
  },
  {
   "cell_type": "code",
   "execution_count": null,
   "id": "261287ec",
   "metadata": {},
   "outputs": [],
   "source": []
  }
 ],
 "metadata": {
  "kernelspec": {
   "display_name": "Python 3 (ipykernel)",
   "language": "python",
   "name": "python3"
  },
  "language_info": {
   "codemirror_mode": {
    "name": "ipython",
    "version": 3
   },
   "file_extension": ".py",
   "mimetype": "text/x-python",
   "name": "python",
   "nbconvert_exporter": "python",
   "pygments_lexer": "ipython3",
   "version": "3.11.5"
  }
 },
 "nbformat": 4,
 "nbformat_minor": 5
}

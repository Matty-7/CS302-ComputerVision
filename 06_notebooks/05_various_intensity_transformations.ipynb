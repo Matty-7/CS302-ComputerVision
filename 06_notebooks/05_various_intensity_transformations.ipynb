{
 "cells": [
  {
   "cell_type": "code",
   "execution_count": null,
   "metadata": {},
   "outputs": [],
   "source": [
    "import numpy as np\n",
    "\n",
    "from matplotlib import pyplot as plt\n",
    "plt.rcParams['axes.labelsize'] = 18\n",
    "plt.rcParams['xtick.labelsize'] = 14\n",
    "plt.rcParams['ytick.labelsize'] = 14\n",
    "%matplotlib inline "
   ]
  },
  {
   "cell_type": "code",
   "execution_count": null,
   "metadata": {},
   "outputs": [],
   "source": [
    "from skimage.io import imread\n",
    "image = imread('reifen.png')\n",
    "\n",
    "print(image.dtype)\n",
    "\n",
    "plt.figure(figsize=(5,5))\n",
    "plt.imshow(image, cmap='gray')\n",
    "plt.axis('off')   \n",
    "plt.show()"
   ]
  },
  {
   "cell_type": "code",
   "execution_count": null,
   "metadata": {},
   "outputs": [],
   "source": [
    "from skimage import  exposure\n",
    "\n",
    "gamma_corrected = exposure.adjust_gamma(image, 0.5)\n",
    "\n",
    "hist_equal = exposure.equalize_hist(image)\n",
    "\n",
    "CLAHE = exposure.equalize_adapthist(image, kernel_size=15, clip_limit=0.02)"
   ]
  },
  {
   "cell_type": "code",
   "execution_count": null,
   "metadata": {},
   "outputs": [],
   "source": [
    "plt.figure(figsize=(12,8))\n",
    "\n",
    "plt.subplot(221)\n",
    "plt.imshow(image, cmap='gray')\n",
    "plt.axis('off')\n",
    "plt.title('untreated', fontsize=18)\n",
    "\n",
    "plt.subplot(222)\n",
    "plt.imshow(gamma_corrected, cmap='gray')\n",
    "plt.axis('off')\n",
    "plt.title('gamma = 0.5', fontsize=18)\n",
    "\n",
    "plt.subplot(223)\n",
    "plt.imshow(hist_equal, cmap='gray')\n",
    "plt.axis('off')\n",
    "plt.title('histogram equalization', fontsize = 18)\n",
    "\n",
    "plt.subplot(224)\n",
    "plt.imshow(CLAHE, cmap='gray')\n",
    "plt.axis('off')\n",
    "plt.title('CLAHE', fontsize=20)\n",
    "\n",
    "plt.show()"
   ]
  },
  {
   "cell_type": "code",
   "execution_count": null,
   "metadata": {},
   "outputs": [],
   "source": []
  }
 ],
 "metadata": {
  "kernelspec": {
   "display_name": "Python 3 (ipykernel)",
   "language": "python",
   "name": "python3"
  },
  "language_info": {
   "codemirror_mode": {
    "name": "ipython",
    "version": 3
   },
   "file_extension": ".py",
   "mimetype": "text/x-python",
   "name": "python",
   "nbconvert_exporter": "python",
   "pygments_lexer": "ipython3",
   "version": "3.11.5"
  }
 },
 "nbformat": 4,
 "nbformat_minor": 2
}

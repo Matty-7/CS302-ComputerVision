{
 "cells": [
  {
   "cell_type": "code",
   "execution_count": null,
   "metadata": {},
   "outputs": [],
   "source": [
    "import numpy as np\n",
    "import matplotlib.pyplot as plt\n",
    "plt.rcParams['axes.labelsize'] = 20\n",
    "plt.rcParams['xtick.labelsize'] = 14\n",
    "plt.rcParams['ytick.labelsize'] = 14\n",
    "%matplotlib inline\n",
    "\n",
    "import cv2\n",
    "bgr = cv2.imread('astronaut.png')\n",
    "RGB = cv2.cvtColor(bgr,cv2.COLOR_BGR2RGB)"
   ]
  },
  {
   "cell_type": "markdown",
   "metadata": {},
   "source": [
    "## run CLAHE on luminosity only"
   ]
  },
  {
   "cell_type": "code",
   "execution_count": null,
   "metadata": {},
   "outputs": [],
   "source": [
    "# create CLAHE instance\n",
    "gridsize =5\n",
    "clahe = cv2.createCLAHE(clipLimit=2.0, tileGridSize=(gridsize,gridsize))\n",
    "\n",
    "# apply CLAHE to intensity channel only\n",
    "lab = cv2.cvtColor(bgr, cv2.COLOR_BGR2LAB)\n",
    "lab[...,0] = clahe.apply(lab[...,0])\n",
    "bgr_CLAHE = cv2.cvtColor(lab, cv2.COLOR_LAB2BGR)\n",
    "\n",
    "# convert back to RGB\n",
    "Lum_CLAHE = cv2.cvtColor(bgr_CLAHE,cv2.COLOR_BGR2RGB)"
   ]
  },
  {
   "cell_type": "markdown",
   "metadata": {},
   "source": [
    "## run CLAHE on RGB"
   ]
  },
  {
   "cell_type": "code",
   "execution_count": null,
   "metadata": {},
   "outputs": [],
   "source": [
    "RGB_CLAHE = np.zeros(RGB.shape)\n",
    "\n",
    "# apply to each color channel\n",
    "RGB_CLAHE[...,0] = clahe.apply(RGB[...,0])\n",
    "RGB_CLAHE[...,1] = clahe.apply(RGB[...,1])\n",
    "RGB_CLAHE[...,2] = clahe.apply(RGB[...,2])\n",
    "\n",
    "# CLAHE returns floats -> conversion to range 0 .... 1 for imshow\n",
    "RGB_CLAHE /=255  "
   ]
  },
  {
   "cell_type": "code",
   "execution_count": null,
   "metadata": {},
   "outputs": [],
   "source": [
    "plt.figure(figsize=(18,10))\n",
    "\n",
    "plt.subplot(131)\n",
    "plt.imshow(RGB)\n",
    "plt.axis('off')\n",
    "plt.title('original image', fontsize=20)\n",
    "\n",
    "plt.subplot(132)\n",
    "plt.imshow(Lum_CLAHE)\n",
    "plt.title('CLAHE on Luminosity only', fontsize=20)\n",
    "plt.axis('off')\n",
    "\n",
    "plt.subplot(133)\n",
    "plt.imshow(RGB_CLAHE)\n",
    "plt.axis('off')\n",
    "plt.title('CLAHE on RGB', fontsize=20)\n",
    "\n",
    "plt.show()"
   ]
  },
  {
   "cell_type": "code",
   "execution_count": null,
   "metadata": {},
   "outputs": [],
   "source": []
  }
 ],
 "metadata": {
  "kernelspec": {
   "display_name": "Python 3 (ipykernel)",
   "language": "python",
   "name": "python3"
  },
  "language_info": {
   "codemirror_mode": {
    "name": "ipython",
    "version": 3
   },
   "file_extension": ".py",
   "mimetype": "text/x-python",
   "name": "python",
   "nbconvert_exporter": "python",
   "pygments_lexer": "ipython3",
   "version": "3.11.5"
  }
 },
 "nbformat": 4,
 "nbformat_minor": 2
}

{
 "cells": [
  {
   "cell_type": "code",
   "execution_count": null,
   "metadata": {},
   "outputs": [],
   "source": [
    "import numpy as np\n",
    "import matplotlib.pyplot as plt\n",
    "plt.rcParams['axes.labelsize'] = 20\n",
    "plt.rcParams['xtick.labelsize'] = 14\n",
    "plt.rcParams['ytick.labelsize'] = 14\n",
    "%matplotlib inline"
   ]
  },
  {
   "cell_type": "code",
   "execution_count": null,
   "metadata": {},
   "outputs": [],
   "source": [
    "from skimage.io import imread\n",
    "astro = imread('astronaut.png')"
   ]
  },
  {
   "cell_type": "markdown",
   "metadata": {},
   "source": [
    "## imshow does not rescale color images "
   ]
  },
  {
   "cell_type": "code",
   "execution_count": null,
   "metadata": {},
   "outputs": [],
   "source": [
    "# data type unsigned int\n",
    "astro_overflow = 2 * astro\n",
    "print(astro_overflow.dtype)\n",
    "\n",
    "# data type float\n",
    "astro_overflow_2 = 0.9 * astro\n",
    "print(astro_overflow_2.dtype)\n",
    "\n",
    "# data type flow\n",
    "from skimage import img_as_float\n",
    "astro_overflow_3 = 1.7 * img_as_float(astro)\n",
    "print(astro_overflow_3.dtype)"
   ]
  },
  {
   "cell_type": "code",
   "execution_count": null,
   "metadata": {},
   "outputs": [],
   "source": [
    "plt.figure(figsize=(14,5))\n",
    "\n",
    "plt.subplot(131)\n",
    "plt.imshow(astro_overflow)\n",
    "plt.axis('off')\n",
    "plt.title('uint, overflow, wrong', fontsize=17)\n",
    "\n",
    "plt.subplot(132)\n",
    "plt.imshow(astro_overflow_2)\n",
    "plt.axis('off')\n",
    "plt.title('float, overflow, clipped', fontsize=17)\n",
    "\n",
    "plt.subplot(133)\n",
    "plt.imshow(astro_overflow_3)\n",
    "plt.axis('off')\n",
    "plt.title('float, clipped, clipped', fontsize=17)\n",
    "\n",
    "plt.show()"
   ]
  },
  {
   "cell_type": "markdown",
   "metadata": {},
   "source": [
    "## color inversion"
   ]
  },
  {
   "cell_type": "code",
   "execution_count": null,
   "metadata": {},
   "outputs": [],
   "source": [
    "R_inv = 255 - astro[:,:,0]\n",
    "G_inv = 255 - astro[:,:,1]\n",
    "B_inv = 255 - astro[:,:,2]\n",
    "\n",
    "# concatenate three channels to an RGB image\n",
    "astro_inv = np.dstack((R_inv, G_inv, B_inv))\n",
    "\n",
    "plt.figure(figsize=(6,6))\n",
    "plt.imshow(astro_inv)\n",
    "plt.axis('off')\n",
    "plt.show() "
   ]
  },
  {
   "cell_type": "code",
   "execution_count": null,
   "metadata": {},
   "outputs": [],
   "source": []
  }
 ],
 "metadata": {
  "kernelspec": {
   "display_name": "Python 3 (ipykernel)",
   "language": "python",
   "name": "python3"
  },
  "language_info": {
   "codemirror_mode": {
    "name": "ipython",
    "version": 3
   },
   "file_extension": ".py",
   "mimetype": "text/x-python",
   "name": "python",
   "nbconvert_exporter": "python",
   "pygments_lexer": "ipython3",
   "version": "3.11.5"
  }
 },
 "nbformat": 4,
 "nbformat_minor": 2
}

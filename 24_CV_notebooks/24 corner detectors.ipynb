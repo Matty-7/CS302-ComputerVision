{
 "cells": [
  {
   "cell_type": "code",
   "execution_count": null,
   "metadata": {},
   "outputs": [],
   "source": [
    "import cv2\n",
    "import numpy as np\n",
    "from matplotlib import pyplot as plt\n",
    "plt.rcParams['axes.labelsize'] = 18\n",
    "plt.rcParams['xtick.labelsize'] = 14\n",
    "plt.rcParams['ytick.labelsize'] = 14\n",
    "%matplotlib inline\n",
    "\n",
    "from skimage.io import imread\n",
    "from skimage import color"
   ]
  },
  {
   "cell_type": "code",
   "execution_count": null,
   "metadata": {
    "scrolled": false
   },
   "outputs": [],
   "source": [
    "img = imread('dog.jpg')\n",
    "gray = color.rgb2gray(img)\n",
    "gray = np.float32(gray)\n",
    "                      \n",
    "plt.figure(figsize=(20,10))\n",
    "plt.subplot(1,2,1)\n",
    "plt.imshow(img)\n",
    "plt.axis('off')\n",
    "plt.title('Target image', fontsize=20)\n",
    "\n",
    "plt.subplot(1,2,2)\n",
    "plt.imshow(gray, cmap = 'gray')\n",
    "plt.axis('off')\n",
    "plt.title('working image', fontsize=20)\n",
    "plt.show()"
   ]
  },
  {
   "cell_type": "markdown",
   "metadata": {},
   "source": [
    "## Shi-Tomasi Corner Detection\n",
    "\n",
    "**cv2.goodFeaturesToTrack ( image, maxcorners, qualityLevel, minDistance)**\n",
    "<br/>maxCorners: The maximum number of the corners.\n",
    "<br/>qualityLevel: The lowest acceptable corner mass in percentage of the maximum corner mass.\n",
    "<br/>minDistance: Minimum Euler Distance between corner points to avoid getting adjacent feature points."
   ]
  },
  {
   "cell_type": "code",
   "execution_count": null,
   "metadata": {},
   "outputs": [],
   "source": [
    "#Shi-Tomassi Corner Detection \n",
    "corners = cv2.goodFeaturesToTrack(gray,100,0.01,10)\n",
    "#change into int64 type\n",
    "corners = np.int0(corners)\n",
    "print(corners)"
   ]
  },
  {
   "cell_type": "code",
   "execution_count": null,
   "metadata": {
    "scrolled": false
   },
   "outputs": [],
   "source": [
    "shi_tomasi = np.copy(img)\n",
    "\n",
    "#display the corners\n",
    "for i in corners:\n",
    "    x,y = i.ravel()\n",
    "    cv2.circle(shi_tomasi,(x,y),3,(0,0,255),-1)\n",
    "    \n",
    "    \n",
    "plt.figure(figsize=(10,20))\n",
    "\n",
    "plt.imshow(shi_tomasi)\n",
    "plt.axis('off')\n",
    "plt.title('Result using Shi-Tomasi corner detection', fontsize=20)\n",
    "# plt.savefig('Shi-Tomasi.png',dpi=200)\n",
    "plt.show()"
   ]
  },
  {
   "cell_type": "markdown",
   "metadata": {},
   "source": [
    "## Harris Corner Detection\n",
    "\n",
    "**cv2.cornerHarris(src, blockSize, ksize, k)**\n",
    "<br/>src：Input image with must be float32.\n",
    "<br/>blockSize：The area size to be considered in corner detection.\n",
    "<br/>ksize：The size of the window used in the Sobel derivative.\n",
    "<br/>k：The free parameter in Harris corner detection equation should be in the range 0.04 - 0.06.\n"
   ]
  },
  {
   "cell_type": "code",
   "execution_count": null,
   "metadata": {},
   "outputs": [],
   "source": [
    "dst = cv2.cornerHarris(gray,2,3,0.06)\n",
    "\n",
    "#The next line is to improve the clarity and accuracy of subsequent image corner annotation (can be commented out)\n",
    "dst = cv2.dilate(dst,None)\n",
    "print(dst.shape)"
   ]
  },
  {
   "cell_type": "code",
   "execution_count": null,
   "metadata": {},
   "outputs": [],
   "source": [
    "work = np.copy(img)\n",
    "# set the pixel of the corner to red\n",
    "work[dst>0.005*dst.max()]=[255,0,0]\n",
    "\n",
    "#display\n",
    "plt.figure(figsize=(10,20))\n",
    "plt.imshow(work)\n",
    "plt.axis('off')\n",
    "plt.title('Result using Harris corner detection ', fontsize=20)\n",
    "plt.show()"
   ]
  },
  {
   "cell_type": "code",
   "execution_count": null,
   "metadata": {},
   "outputs": [],
   "source": [
    "combine = np.copy(img)\n",
    "\n",
    "#display the Shi Tomasi corners\n",
    "for i in corners:\n",
    "    x,y = i.ravel()\n",
    "    cv2.circle(combine,(x,y),4,(0,0,255),-1)\n",
    "    \n",
    "    \n",
    "combine[dst>0.005*dst.max()]=[255,0,0] \n",
    "\n",
    "#display\n",
    "plt.figure(figsize=(10,20))\n",
    "plt.imshow(combine)\n",
    "plt.axis('off')\n",
    "plt.title('Blue: Shi Tomasi, Red: Harris', fontsize=20)\n",
    "plt.show()\n"
   ]
  },
  {
   "cell_type": "code",
   "execution_count": null,
   "metadata": {},
   "outputs": [],
   "source": []
  }
 ],
 "metadata": {
  "kernelspec": {
   "display_name": "Python 3 (ipykernel)",
   "language": "python",
   "name": "python3"
  },
  "language_info": {
   "codemirror_mode": {
    "name": "ipython",
    "version": 3
   },
   "file_extension": ".py",
   "mimetype": "text/x-python",
   "name": "python",
   "nbconvert_exporter": "python",
   "pygments_lexer": "ipython3",
   "version": "3.11.5"
  }
 },
 "nbformat": 4,
 "nbformat_minor": 2
}

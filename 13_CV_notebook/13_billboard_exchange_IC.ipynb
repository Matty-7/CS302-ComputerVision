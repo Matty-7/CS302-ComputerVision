{
 "cells": [
  {
   "cell_type": "code",
   "execution_count": null,
   "metadata": {},
   "outputs": [],
   "source": [
    "import numpy as np\n",
    "import matplotlib.pyplot as plt\n",
    "plt.rcParams['axes.labelsize'] = 20\n",
    "plt.rcParams['xtick.labelsize'] = 14\n",
    "plt.rcParams['ytick.labelsize'] = 14\n",
    "%matplotlib inline         \n",
    "\n",
    "import cv2\n",
    "from skimage.io import imread"
   ]
  },
  {
   "cell_type": "code",
   "execution_count": null,
   "metadata": {},
   "outputs": [],
   "source": [
    "# read source image\n",
    "src = imread('DKU_logo.png')\n",
    "\n",
    "plt.figure(figsize=(10,3))\n",
    "plt.imshow(src, cmap=plt.cm.gray)\n",
    "plt.title('Source', fontsize=20)\n",
    "plt.show()"
   ]
  },
  {
   "cell_type": "code",
   "execution_count": null,
   "metadata": {},
   "outputs": [],
   "source": [
    "dest= imread('times_square.jpg')\n",
    "\n",
    "plt.figure(figsize=(14,8))\n",
    "plt.imshow(dest)\n",
    "plt.title('Destination', fontsize=20)\n",
    "plt.show()"
   ]
  },
  {
   "cell_type": "markdown",
   "metadata": {},
   "source": [
    "### aim of this notebook is to replace the Motown billboard with the DKU logo"
   ]
  },
  {
   "cell_type": "code",
   "execution_count": null,
   "metadata": {},
   "outputs": [],
   "source": [
    "# !! opencv, like Fiji, uses columns, rows\n",
    "row,col,c = src.shape\n",
    "print('logo size is {} by {} pixels'.format(row,col))\n",
    "\n",
    "# the four corners of the logo\n",
    "# sequence is top left, top right, bottom right, bottom left\n",
    "pts_src = np.array([[0, 0], [col - 1, 0], [col - 1, row - 1], [0, row - 1]])"
   ]
  },
  {
   "cell_type": "code",
   "execution_count": null,
   "metadata": {},
   "outputs": [],
   "source": [
    "# four corners of billboard\n",
    "# sequence is top left, top right, bottom right, bottom left\n",
    "pts_dst = np.array([[116,217], [280,362], [248,447], [34,334] ])"
   ]
  },
  {
   "cell_type": "code",
   "execution_count": null,
   "metadata": {},
   "outputs": [],
   "source": [
    "# calculate Homography between source and destination points\n",
    "h, _ = cv2.findHomography(pts_src, pts_dst)\n",
    "\n",
    "np.set_printoptions(precision=4, suppress=True)\n",
    "print(h)"
   ]
  },
  {
   "cell_type": "code",
   "execution_count": null,
   "metadata": {},
   "outputs": [],
   "source": [
    "# Warp source image \n",
    "src_temp = cv2.warpPerspective(src, h, (dest.shape[1], dest.shape[0])) # new image has size of nightlife scene\n",
    "\n",
    "plt.figure(figsize=(14,8))\n",
    "plt.imshow(src_temp)\n",
    "plt.axis('off')\n",
    "plt.show()"
   ]
  },
  {
   "cell_type": "code",
   "execution_count": null,
   "metadata": {},
   "outputs": [],
   "source": [
    "# Black out polygonal area in destination image\n",
    "dest_temp = np.copy(dest)\n",
    "\n",
    "cv2.fillConvexPoly(dest_temp, pts_dst.astype(int), 0, cv2.LINE_AA)\n",
    "\n",
    "plt.figure(figsize=(14,8))\n",
    "plt.imshow(dest_temp)\n",
    "plt.axis('off')\n",
    "plt.show()"
   ]
  },
  {
   "cell_type": "code",
   "execution_count": null,
   "metadata": {},
   "outputs": [],
   "source": [
    "# merge the two images\n",
    "virtual_billboard = dest_temp + src_temp\n",
    "\n",
    "plt.figure(figsize=(18,10))\n",
    "plt.imshow(virtual_billboard)\n",
    "plt.axis('off')\n",
    "plt.show()"
   ]
  },
  {
   "cell_type": "markdown",
   "metadata": {},
   "source": [
    "### In-class exercise: extract the original billboard from the destination image and map it into an image of the size of the source image. "
   ]
  },
  {
   "cell_type": "code",
   "execution_count": null,
   "metadata": {},
   "outputs": [],
   "source": []
  }
 ],
 "metadata": {
  "kernelspec": {
   "display_name": "Python 3 (ipykernel)",
   "language": "python",
   "name": "python3"
  },
  "language_info": {
   "codemirror_mode": {
    "name": "ipython",
    "version": 3
   },
   "file_extension": ".py",
   "mimetype": "text/x-python",
   "name": "python",
   "nbconvert_exporter": "python",
   "pygments_lexer": "ipython3",
   "version": "3.11.5"
  }
 },
 "nbformat": 4,
 "nbformat_minor": 2
}

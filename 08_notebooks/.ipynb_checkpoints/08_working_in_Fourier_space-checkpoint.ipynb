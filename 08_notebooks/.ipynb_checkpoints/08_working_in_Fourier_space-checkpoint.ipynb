{
 "cells": [
  {
   "cell_type": "code",
   "execution_count": null,
   "metadata": {},
   "outputs": [],
   "source": [
    "import numpy as np\n",
    "\n",
    "import matplotlib.pyplot as plt\n",
    "plt.rcParams['axes.labelsize'] = 20\n",
    "plt.rcParams['xtick.labelsize'] = 14\n",
    "plt.rcParams['ytick.labelsize'] = 14\n",
    "%matplotlib inline"
   ]
  },
  {
   "cell_type": "code",
   "execution_count": null,
   "metadata": {},
   "outputs": [],
   "source": [
    "# load image\n",
    "from scipy import datasets\n",
    "face = datasets.face(gray=True)\n",
    "\n",
    "\n",
    "# if you get an eror message, try:\n",
    "# from scipy import misc\n",
    "# face = misc.face(gray=True)"
   ]
  },
  {
   "cell_type": "code",
   "execution_count": null,
   "metadata": {},
   "outputs": [],
   "source": [
    "# the actual Fourier Transform\n",
    "face_fft = np.fft.fft2(face)\n",
    "print(face_fft.dtype)"
   ]
  },
  {
   "cell_type": "code",
   "execution_count": null,
   "metadata": {},
   "outputs": [],
   "source": [
    "# convert complex numbers to floats \n",
    "# only for visualisation!\n",
    "face_fft_abs = np.abs(face_fft)\n",
    "\n",
    "# make small amplitudes visible using logarithm\n",
    "# only for visualisation!\n",
    "face_fft_log = np.log(face_fft_abs + 0.0000001) \n",
    "\n",
    "# shift four quadrants to comply with convention\n",
    "face_fft_log_shift = np.fft.fftshift(face_fft_log)"
   ]
  },
  {
   "cell_type": "code",
   "execution_count": null,
   "metadata": {},
   "outputs": [],
   "source": [
    "# plot result\n",
    "plt.figure(figsize=(14, 12))\n",
    "plt.subplot(221)\n",
    "plt.imshow(face, cmap=plt.cm.gray)\n",
    "plt.axis('off')\n",
    "plt.title('raw image', fontsize=20)\n",
    "\n",
    "plt.subplot(222)\n",
    "plt.imshow(face_fft_abs, cmap=plt.cm.gray)\n",
    "plt.axis('off')\n",
    "plt.colorbar()\n",
    "plt.title('Fourier space', fontsize=20)\n",
    "\n",
    "plt.subplot(223)\n",
    "plt.imshow(face_fft_log, cmap=plt.cm.gray)\n",
    "plt.axis('off')\n",
    "plt.title('logscale', fontsize=20)\n",
    "\n",
    "plt.subplot(224)\n",
    "plt.imshow(face_fft_log_shift, cmap=plt.cm.gray)\n",
    "plt.axis('off')\n",
    "plt.title('logscale & shifted', fontsize=20)\n",
    "\n",
    "plt.subplots_adjust(wspace=0.02, hspace=0.05, top=0.95, bottom=0, left=0.05, right=0.95)\n",
    "plt.show()"
   ]
  },
  {
   "cell_type": "code",
   "execution_count": null,
   "metadata": {},
   "outputs": [],
   "source": [
    "height,width = face_fft.shape\n",
    "face_fft_shift = np.fft.fftshift(face_fft)\n",
    "\n",
    "row_c = int(height/2)\n",
    "col_c = int(width/2)\n",
    "\n",
    "print('the DC mode is not a complex number, and large: {:.3}'.format(face_fft_shift[row_c,col_c]))"
   ]
  },
  {
   "cell_type": "code",
   "execution_count": null,
   "metadata": {},
   "outputs": [],
   "source": [
    "# opposite mode number are complex conjugates\n",
    "mode = 10\n",
    "print('horizontal mode +{}: {:.3}'.format(mode, face_fft_shift[row_c + mode ,col_c]))\n",
    "print('horizontal mode -{}: {:.3}'.format(mode, face_fft_shift[row_c - mode ,col_c]))"
   ]
  },
  {
   "cell_type": "code",
   "execution_count": null,
   "metadata": {},
   "outputs": [],
   "source": [
    "# decompose image into amplitude and phase\n",
    "amp_face = np.abs(face_fft)\n",
    "phase_face = np.angle(face_fft)\n",
    "\n",
    "plt.figure(figsize=(14,6))\n",
    "plt.subplot(121)\n",
    "plt.imshow(np.fft.fftshift(np.log(amp_face+0.0000001)), cmap=plt.cm.gray)\n",
    "plt.axis('off')\n",
    "plt.title('amplitude', fontsize=20)\n",
    "\n",
    "plt.subplot(122)\n",
    "plt.imshow(np.fft.fftshift(phase_face), cmap=plt.cm.gray)\n",
    "plt.axis('off')\n",
    "plt.title('phase', fontsize=20)\n",
    "\n",
    "plt.subplots_adjust(wspace=0.02, hspace=0.08, top=0.95, bottom=0, left=0.05, right=0.95)\n",
    "plt.show()"
   ]
  },
  {
   "cell_type": "code",
   "execution_count": null,
   "metadata": {},
   "outputs": [],
   "source": [
    "# rebuilt image from amplitude and phase\n",
    "reconstruct_fft = amp_face * np.exp(1j*phase_face)"
   ]
  },
  {
   "cell_type": "code",
   "execution_count": null,
   "metadata": {},
   "outputs": [],
   "source": [
    "# inverse FFT \n",
    "# never on log\n",
    "# sometimes on shifted Fourierspace\n",
    "reconstruct = np.abs(np.fft.ifft2(np.fft.ifftshift(reconstruct_fft)))"
   ]
  },
  {
   "cell_type": "code",
   "execution_count": null,
   "metadata": {},
   "outputs": [],
   "source": [
    "# plot images\n",
    "plt.figure(figsize=(14,7))\n",
    "plt.subplot(121)\n",
    "plt.imshow(face, cmap=plt.cm.gray)\n",
    "plt.axis('off')\n",
    "plt.title('original', fontsize=20)\n",
    "\n",
    "plt.subplot(122)\n",
    "plt.imshow(reconstruct, cmap=plt.cm.gray)\n",
    "plt.axis('off')\n",
    "plt.title('reconstruction', fontsize=20)\n",
    "\n",
    "plt.show()"
   ]
  },
  {
   "cell_type": "code",
   "execution_count": null,
   "metadata": {},
   "outputs": [],
   "source": []
  }
 ],
 "metadata": {
  "kernelspec": {
   "display_name": "Python 3 (ipykernel)",
   "language": "python",
   "name": "python3"
  },
  "language_info": {
   "codemirror_mode": {
    "name": "ipython",
    "version": 3
   },
   "file_extension": ".py",
   "mimetype": "text/x-python",
   "name": "python",
   "nbconvert_exporter": "python",
   "pygments_lexer": "ipython3",
   "version": "3.11.5"
  }
 },
 "nbformat": 4,
 "nbformat_minor": 2
}

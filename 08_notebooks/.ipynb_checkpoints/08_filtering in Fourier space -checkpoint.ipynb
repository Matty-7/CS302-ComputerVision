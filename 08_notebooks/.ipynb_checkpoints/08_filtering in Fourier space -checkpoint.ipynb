{
 "cells": [
  {
   "cell_type": "code",
   "execution_count": null,
   "metadata": {},
   "outputs": [],
   "source": [
    "import numpy as np\n",
    "from scipy import datasets\n",
    "from skimage import img_as_float\n",
    "\n",
    "import matplotlib.pyplot as plt\n",
    "plt.rcParams['axes.labelsize'] = 18\n",
    "plt.rcParams['xtick.labelsize'] = 14\n",
    "plt.rcParams['ytick.labelsize'] = 14\n",
    "%matplotlib inline"
   ]
  },
  {
   "cell_type": "code",
   "execution_count": null,
   "metadata": {},
   "outputs": [],
   "source": [
    "# load image and cut into a square\n",
    "face_int = datasets.face(gray=True)\n",
    "face = img_as_float(face_int)\n",
    "\n",
    "face = face[0:701, 200:901]"
   ]
  },
  {
   "cell_type": "code",
   "execution_count": null,
   "metadata": {},
   "outputs": [],
   "source": [
    "# Fourier Transform\n",
    "face_fft = np.fft.fftshift(np.fft.fft2(face))"
   ]
  },
  {
   "cell_type": "code",
   "execution_count": null,
   "metadata": {},
   "outputs": [],
   "source": [
    "# create filter mask\n",
    "from scipy import signal\n",
    "z = np.outer(signal.gaussian(701, 20), signal.gaussian(701, 20))\n",
    "\n",
    "# normalize to one\n",
    "z_max = z.max()  \n",
    "\n",
    "low_pass_filter =  z/z_max\n",
    "high_pass_filter = 1 - low_pass_filter\n",
    "\n",
    "# plot result\n",
    "plt.figure(figsize=(10, 5))\n",
    "plt.subplot(121)\n",
    "plt.imshow(low_pass_filter, cmap=plt.cm.gray)\n",
    "plt.axis('off')\n",
    "plt.title('low pass', fontsize=20)\n",
    "\n",
    "plt.subplot(122)\n",
    "plt.imshow(high_pass_filter, cmap=plt.cm.gray)\n",
    "plt.axis('off')\n",
    "plt.title('high pass', fontsize=20)\n",
    "\n",
    "plt.show()"
   ]
  },
  {
   "cell_type": "code",
   "execution_count": null,
   "metadata": {},
   "outputs": [],
   "source": [
    "# the actual filter\n",
    "low_pass_fft = face_fft*low_pass_filter\n",
    "high_pass_fft = face_fft*high_pass_filter\n",
    "\n",
    "# inverse FFT\n",
    "low_pass_image = np.abs(np.fft.ifft2(np.fft.ifftshift(low_pass_fft)))\n",
    "high_pass_image = np.abs(np.fft.ifft2(np.fft.ifftshift(high_pass_fft)))"
   ]
  },
  {
   "cell_type": "code",
   "execution_count": null,
   "metadata": {},
   "outputs": [],
   "source": [
    "# plot result\n",
    "plt.figure(figsize=(14, 14))\n",
    "plt.subplot(221)\n",
    "low_pass_fft[350,350] =0\n",
    "plt.imshow(np.abs(low_pass_fft), cmap=plt.cm.gray)\n",
    "plt.axis('off')\n",
    "plt.title('Fourier space low pass', fontsize=20)\n",
    "\n",
    "plt.subplot(222)\n",
    "plt.imshow(low_pass_image, cmap=plt.cm.gray)\n",
    "plt.axis('off')\n",
    "plt.title('low pass', fontsize=20)\n",
    "\n",
    "plt.subplot(223)\n",
    "plt.imshow(np.abs(high_pass_fft), cmap=plt.cm.gray)\n",
    "plt.axis('off')\n",
    "plt.title('Fourier space high pass', fontsize=20)\n",
    "\n",
    "plt.subplot(224)\n",
    "plt.imshow(high_pass_image, cmap=plt.cm.gray)\n",
    "plt.axis('off')\n",
    "plt.title('high pass', fontsize=20)\n",
    "\n",
    "plt.subplots_adjust(wspace=0.02, hspace=0.08, top=0.95, bottom=0, left=0.05, right=0.95)\n",
    "plt.show()"
   ]
  },
  {
   "cell_type": "code",
   "execution_count": null,
   "metadata": {},
   "outputs": [],
   "source": []
  },
  {
   "cell_type": "code",
   "execution_count": null,
   "metadata": {},
   "outputs": [],
   "source": []
  }
 ],
 "metadata": {
  "kernelspec": {
   "display_name": "Python 3 (ipykernel)",
   "language": "python",
   "name": "python3"
  },
  "language_info": {
   "codemirror_mode": {
    "name": "ipython",
    "version": 3
   },
   "file_extension": ".py",
   "mimetype": "text/x-python",
   "name": "python",
   "nbconvert_exporter": "python",
   "pygments_lexer": "ipython3",
   "version": "3.11.5"
  }
 },
 "nbformat": 4,
 "nbformat_minor": 2
}

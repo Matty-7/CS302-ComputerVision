{
 "cells": [
  {
   "cell_type": "code",
   "execution_count": null,
   "metadata": {},
   "outputs": [],
   "source": [
    "from skimage.io import imread\n",
    "from skimage import color\n",
    "\n",
    "import matplotlib.pyplot as plt\n",
    "plt.rcParams['axes.labelsize'] = 18\n",
    "plt.rcParams['xtick.labelsize'] = 14\n",
    "plt.rcParams['ytick.labelsize'] = 14\n",
    "%matplotlib inline   "
   ]
  },
  {
   "cell_type": "code",
   "execution_count": null,
   "metadata": {},
   "outputs": [],
   "source": [
    "# open image and conver to HSV color space\n",
    "flower = imread('flower.tif')\n",
    "\n",
    "from skimage.color import rgb2hsv, hsv2rgb \n",
    "\n",
    "flower_hsv = rgb2hsv(flower)\n",
    "\n",
    "hue = flower_hsv[:,:,0]\n",
    "saturation = flower_hsv[:,:,1]\n",
    "value = flower_hsv[:,:,2]"
   ]
  },
  {
   "cell_type": "code",
   "execution_count": null,
   "metadata": {},
   "outputs": [],
   "source": [
    "# visualize the three channels\n",
    "plt.figure(figsize=(12,8))\n",
    "\n",
    "plt.subplot(221)\n",
    "plt.imshow(hsv2rgb(flower_hsv))    # back conversion necessary !!\n",
    "plt.axis('off')\n",
    "plt.title('flower', fontsize=20)\n",
    "\n",
    "plt.subplot(222)\n",
    "plt.imshow(hue, cmap=plt.cm.gray)\n",
    "plt.axis('off')\n",
    "plt.title('hue', fontsize=20)\n",
    "\n",
    "plt.subplot(223)\n",
    "plt.imshow(saturation, cmap=plt.cm.gray)\n",
    "plt.axis('off')\n",
    "plt.title('saturation', fontsize=20)\n",
    "\n",
    "plt.subplot(224)\n",
    "plt.imshow(value, cmap=plt.cm.gray)\n",
    "plt.axis('off')\n",
    "plt.title('value', fontsize=20)\n",
    "\n",
    "plt.show()"
   ]
  },
  {
   "cell_type": "code",
   "execution_count": null,
   "metadata": {},
   "outputs": [],
   "source": []
  }
 ],
 "metadata": {
  "kernelspec": {
   "display_name": "Python 3 (ipykernel)",
   "language": "python",
   "name": "python3"
  },
  "language_info": {
   "codemirror_mode": {
    "name": "ipython",
    "version": 3
   },
   "file_extension": ".py",
   "mimetype": "text/x-python",
   "name": "python",
   "nbconvert_exporter": "python",
   "pygments_lexer": "ipython3",
   "version": "3.9.16"
  }
 },
 "nbformat": 4,
 "nbformat_minor": 2
}

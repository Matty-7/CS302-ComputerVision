{
 "cells": [
  {
   "cell_type": "code",
   "execution_count": 7,
   "metadata": {},
   "outputs": [
    {
     "name": "stdout",
     "output_type": "stream",
     "text": [
      "0.0003048780487804878\n",
      "0.003048780487804878\n"
     ]
    }
   ],
   "source": [
    "# (1)\n",
    "lambda_light = 500e-9\n",
    "resolved_detail = 10e-4\n",
    "\n",
    "# d_0 = λ / (1.64 * A_obj)\n",
    "\n",
    "A_obj = lambda_light / (1.64 * resolved_detail)\n",
    "\n",
    "# A_obj = d / (2 * o) = d / (2*5)\n",
    "# d = 2 * o * A_obj = 2 * 5 * A_obj\n",
    "d = 2 * 5 * A_obj\n",
    "\n",
    "print(A_obj)\n",
    "print(d)"
   ]
  },
  {
   "cell_type": "markdown",
   "metadata": {},
   "source": [
    "You can't buy a lens with such a diameter."
   ]
  },
  {
   "cell_type": "code",
   "execution_count": 8,
   "metadata": {},
   "outputs": [
    {
     "data": {
      "text/plain": [
       "100000000.0"
      ]
     },
     "execution_count": 8,
     "metadata": {},
     "output_type": "execute_result"
    }
   ],
   "source": [
    "# (2)\n",
    "pixel_side_length = 10e-5\n",
    "field_of_view = 1\n",
    "\n",
    "pixels_in_view = field_of_view / pixel_side_length\n",
    "total_pixels = pixels_in_view ** 2\n",
    "total_pixels"
   ]
  },
  {
   "cell_type": "markdown",
   "metadata": {},
   "source": [
    "Yes, we can buy such camera."
   ]
  },
  {
   "cell_type": "code",
   "execution_count": 9,
   "metadata": {},
   "outputs": [
    {
     "data": {
      "text/plain": [
       "(0.00014905149051490515, 147.6, 0.1)"
      ]
     },
     "execution_count": 9,
     "metadata": {},
     "output_type": "execute_result"
    }
   ],
   "source": [
    "# (3)\n",
    "focal_length = 0.45\n",
    "Bz = focal_length / d\n",
    "magnification = 0.1\n",
    "\n",
    "depth_of_field = (2 * pixel_side_length * (magnification + 1)) / (magnification ** 2 * Bz)\n",
    "depth_of_field, Bz, magnification\n",
    "\n"
   ]
  },
  {
   "cell_type": "markdown",
   "metadata": {},
   "source": [
    "This depth of field is too small for movie, only the object really close the focal point will keep clear."
   ]
  }
 ],
 "metadata": {
  "kernelspec": {
   "display_name": "Python 3",
   "language": "python",
   "name": "python3"
  },
  "language_info": {
   "codemirror_mode": {
    "name": "ipython",
    "version": 3
   },
   "file_extension": ".py",
   "mimetype": "text/x-python",
   "name": "python",
   "nbconvert_exporter": "python",
   "pygments_lexer": "ipython3",
   "version": "3.11.8"
  }
 },
 "nbformat": 4,
 "nbformat_minor": 2
}

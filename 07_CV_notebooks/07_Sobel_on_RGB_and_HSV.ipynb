{
 "cells": [
  {
   "cell_type": "code",
   "execution_count": null,
   "metadata": {},
   "outputs": [],
   "source": [
    "import numpy as np\n",
    "import matplotlib.pyplot as plt\n",
    "plt.rcParams['axes.labelsize'] = 20\n",
    "plt.rcParams['xtick.labelsize'] = 14\n",
    "plt.rcParams['ytick.labelsize'] = 14\n",
    "%matplotlib inline         \n",
    "\n",
    "from skimage.io import imread\n",
    "from skimage import color\n",
    "from skimage import filters\n",
    "\n",
    "astro = imread('astronaut.png')"
   ]
  },
  {
   "cell_type": "code",
   "execution_count": null,
   "metadata": {},
   "outputs": [],
   "source": [
    "# Sobel filter on individual color channels\n",
    "plt.figure(figsize=(18,18))\n",
    "\n",
    "plt.subplot(221)\n",
    "plt.imshow(astro)\n",
    "plt.axis('off')\n",
    "plt.title('Eileen Collins', fontsize=20)\n",
    "\n",
    "plt.subplot(222)\n",
    "plt.imshow(filters.sobel(astro[:,:,0]), cmap=plt.cm.gray)\n",
    "plt.axis('off')\n",
    "plt.title('sobel: red', fontsize=20)\n",
    "\n",
    "plt.subplot(223)\n",
    "plt.imshow(filters.sobel(astro[:,:,1]), cmap=plt.cm.gray)\n",
    "plt.axis('off')\n",
    "plt.title('sobel: green', fontsize=20)\n",
    "\n",
    "plt.subplot(224)\n",
    "plt.imshow(filters.sobel(astro[:,:,2]), cmap=plt.cm.gray)\n",
    "plt.axis('off')\n",
    "plt.title('sobel: blue', fontsize=20)\n",
    "plt.show()\n",
    "\n",
    "# difficult to interpret, see e.g. flag"
   ]
  },
  {
   "cell_type": "code",
   "execution_count": null,
   "metadata": {},
   "outputs": [],
   "source": [
    "from skimage.color.adapt_rgb import adapt_rgb, each_channel, hsv_value\n",
    "\n",
    "# each_channel\n",
    "# Pass each of the RGB channels to the filter one-by-one, and stitch the results back into an RGB image.\n",
    "\n",
    "@adapt_rgb(each_channel)\n",
    "def sobel_each(image):\n",
    "    return filters.sobel(image)"
   ]
  },
  {
   "cell_type": "code",
   "execution_count": null,
   "metadata": {},
   "outputs": [],
   "source": [
    "# hsv_value\n",
    "# Convert the RGB image to HSV and pass the value channel to the filter. \n",
    "# The filtered result is inserted back into the HSV image and converted back to RGB.\n",
    "\n",
    "@adapt_rgb(hsv_value)\n",
    "def sobel_hsv(image):\n",
    "    return filters.sobel(image)"
   ]
  },
  {
   "cell_type": "code",
   "execution_count": null,
   "metadata": {},
   "outputs": [],
   "source": [
    "plt.figure(figsize=(18,9))\n",
    "\n",
    "plt.subplot(121)\n",
    "plt.imshow(sobel_each(astro)) #, cmap=plt.cm.gray)\n",
    "plt.axis('off')\n",
    "plt.title('sobel on R, G, and B', fontsize=20)\n",
    "\n",
    "plt.subplot(122)\n",
    "plt.imshow(sobel_hsv(astro))#, cmap=plt.cm.gray)\n",
    "plt.axis('off')\n",
    "plt.title('sobel on V in HSV', fontsize=20)\n",
    "plt.show()"
   ]
  },
  {
   "cell_type": "code",
   "execution_count": null,
   "metadata": {},
   "outputs": [],
   "source": []
  }
 ],
 "metadata": {
  "kernelspec": {
   "display_name": "Python 3 (ipykernel)",
   "language": "python",
   "name": "python3"
  },
  "language_info": {
   "codemirror_mode": {
    "name": "ipython",
    "version": 3
   },
   "file_extension": ".py",
   "mimetype": "text/x-python",
   "name": "python",
   "nbconvert_exporter": "python",
   "pygments_lexer": "ipython3",
   "version": "3.11.5"
  }
 },
 "nbformat": 4,
 "nbformat_minor": 2
}

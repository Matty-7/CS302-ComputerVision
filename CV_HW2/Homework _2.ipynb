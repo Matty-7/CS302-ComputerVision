{
 "cells": [
  {
   "cell_type": "markdown",
   "metadata": {},
   "source": [
    "# Homework 2"
   ]
  },
  {
   "cell_type": "markdown",
   "metadata": {},
   "source": [
    "### YOUR FULL NAME HERE\n",
    "Netid: Your netid here"
   ]
  },
  {
   "cell_type": "code",
   "execution_count": null,
   "metadata": {},
   "outputs": [],
   "source": [
    "import numpy as np\n",
    "from matplotlib import pyplot as plt\n",
    "plt.rcParams['axes.labelsize'] = 17\n",
    "plt.rcParams['xtick.labelsize'] = 14\n",
    "plt.rcParams['ytick.labelsize'] = 14\n",
    "%matplotlib inline "
   ]
  },
  {
   "cell_type": "markdown",
   "metadata": {},
   "source": [
    "## 1) Swaping amplitude and phase in Fourier space\n",
    "**(2 points)**\n",
    "\n",
    "**a)** Load the racoon face image and the camera image (using *from skimage import data, camera = data.camera()*) and convert them to gray values where necessary. Then cut squares of size 500 by 500 pixels from each of the two images and show them.(*0.5 points*) \n",
    "\n",
    "**b)** Do a Fourier transformation on each image, the separate each result into an amplitude and a phase matrix. (*0.5 points*)  \n",
    "\n",
    "**c)** In Fourierspace, create two new images: one using the racoon amplitude and the camera phase and one using the camera amplitude and the racoon phase. Transform both images back into real space and display their absolute value. (*1 point*)  "
   ]
  },
  {
   "cell_type": "markdown",
   "metadata": {},
   "source": [
    "**ANSWER**"
   ]
  },
  {
   "cell_type": "code",
   "execution_count": null,
   "metadata": {},
   "outputs": [],
   "source": []
  },
  {
   "cell_type": "markdown",
   "metadata": {},
   "source": [
    "## 2) Notch filter\n",
    "**(3 points)**\n",
    "\n",
    "We first create an image with a periodic perturbation, then remove that perturbation by setting *only the right* Fourier components to zero. \n",
    "\n",
    "**a)** Load the person with a camera image (from skimage), convert it to float (range zero to one) and cut it again to 500 by 500 pixels. Then create a second image (again size 500 by 500) of a horizontal sine wave (i.e. the gray values in each column are all identical) of mode 20 and gray values between zero and one. This can be done in a number of ways, one option is to create a row vector with the sinusoidal values and then use np.tile() to expand it into a matrix. Display those two images. Finally create a new image by adding the camera and the sine wave image. Display the combined image. (*1 point*) \n",
    "\n",
    "**b)** Fouriertransform the combined image. Then display the Fourier amplitudes using a logarithmic scaling. Limit the figure to the modes in the range -50 to 50, i.e. your image should have 101 by 101 pixels. \n",
    "\n",
    "Then create a regular plot of the absolute value of those Fourier amplitudes which correspond to horizontal waves. This means reading out one row from the Fourier space image. You can keep the x-axis to be the pixel coordinate of the Fourier space image. (If you want to make it mode number, you will need some re-scaling here. Hint: where is mode zero?) (*1 point*) \n",
    "\n",
    "**c)** Perform a notch filter, i.e. set the Fourier amplitudes corresponding to the sine wave (and only those!) to zero. Finally, do an inverse Fouriertransformation and display the resulting image. (*1 point*) \n",
    "\n",
    "some remarks:\n",
    "- In a) avoid leackage. Meaning if you attach a copy of your pattern on the right side of itself, there will be no jump and also not two points in series which have the same value.\n",
    "\n",
    "- in c) do not set parts of the Fourier space to zero that are not representing the sine wave. Otherwise we will subtract points. If you think you need more than two points for the filter, you have leakage.\n",
    "\n",
    "- If you are completely unsure which amplitudes to mask, try a Fourier transform of the sine wave image alone."
   ]
  },
  {
   "cell_type": "markdown",
   "metadata": {},
   "source": [
    "**Answer**"
   ]
  },
  {
   "cell_type": "code",
   "execution_count": null,
   "metadata": {},
   "outputs": [],
   "source": []
  },
  {
   "cell_type": "markdown",
   "metadata": {},
   "source": [
    "## 3) Image sharpening with a Laplacian filter\n",
    "\n",
    "**(1.5 points)**\n",
    "\n",
    "This exercise describes a technique applied by many image processing programs such as photoshop or gimp to make blurry image appear sharper. \n",
    "\n",
    "Load the raccon face image (using (gray=True)), convert it to float and cut out a 150 by 150 region containing some fur. Then create a blurry version of the image by applying a Gaussian filter with a sigma of 1. This is the image we want to improve. *(0.5 points)*\n",
    "\n",
    "For the actual sharpening, first run a Laplace filter (use the module ndimage from the library scipy!) on the blurred imgage. Then create a sharpened image by subtracting the Laplace filter result (using a prefactor of one) from the blurry image. Finally show the original, blurred, and sharpened image next to each other. *(1 point)*"
   ]
  },
  {
   "cell_type": "markdown",
   "metadata": {},
   "source": [
    "**ANSWER**"
   ]
  },
  {
   "cell_type": "code",
   "execution_count": null,
   "metadata": {},
   "outputs": [],
   "source": []
  },
  {
   "cell_type": "markdown",
   "metadata": {},
   "source": [
    "## 4) HSV cylinder\n",
    "**(2.5 point)** \n",
    "\n",
    "In this exercise you will modify the code of the RGB-cube notebook such that the HSV values of pixels are visualized inside a HSV cylinder. Due to the interaction of the two different matplotlib environments you might want to write this code in a separate notebook.\n",
    "\n",
    "First create an outline of the cylinder by drawing the top and bottom circles with 500 points each (*1 point*). The points of the bottom circle require you to: \n",
    "- create three 1D arrays with 500 elements each (we avoid the flatten step in the scatter plot command). The Hue array goes from 0 to 1, the Saturation array contains only ones, and the Value array only zeros.\n",
    "- Because HSV uses a cylindrical coordinate system, we need to convert the HSV arrays into cartesian coordinates. Start by changing the range of the hue array to zero to 2 pi. Then use np.sin andn np.cos to compute three new arrays x_bottom, y_bottom and z_bottom that contain the 500 points forming the bottom circle of the HSV cylinder.\n",
    "- plot the bottom circle into a 3D plot. You don't have to set the color of the circle.\n",
    "- you do not need to label the horizontal dimensions of your plot, only the vertical one\n",
    "\n",
    "Second, plot the top circle, which differs in that the Value of the points is 1, into the same plot (*0.5 points*).\n",
    "\n",
    "Finally, load tetris.jpg and convert it to HSV, then convert HSV to cartesian coordinates and add every 50th point to the plot (*1 point*). "
   ]
  },
  {
   "cell_type": "markdown",
   "metadata": {},
   "source": [
    "**ANSWER**"
   ]
  },
  {
   "cell_type": "code",
   "execution_count": null,
   "metadata": {},
   "outputs": [],
   "source": []
  }
 ],
 "metadata": {
  "kernelspec": {
   "display_name": "Python 3 (ipykernel)",
   "language": "python",
   "name": "python3"
  },
  "language_info": {
   "codemirror_mode": {
    "name": "ipython",
    "version": 3
   },
   "file_extension": ".py",
   "mimetype": "text/x-python",
   "name": "python",
   "nbconvert_exporter": "python",
   "pygments_lexer": "ipython3",
   "version": "3.11.5"
  },
  "varInspector": {
   "cols": {
    "lenName": 16,
    "lenType": 16,
    "lenVar": 40
   },
   "kernels_config": {
    "python": {
     "delete_cmd_postfix": "",
     "delete_cmd_prefix": "del ",
     "library": "var_list.py",
     "varRefreshCmd": "print(var_dic_list())"
    },
    "r": {
     "delete_cmd_postfix": ") ",
     "delete_cmd_prefix": "rm(",
     "library": "var_list.r",
     "varRefreshCmd": "cat(var_dic_list()) "
    }
   },
   "types_to_exclude": [
    "module",
    "function",
    "builtin_function_or_method",
    "instance",
    "_Feature"
   ],
   "window_display": false
  }
 },
 "nbformat": 4,
 "nbformat_minor": 2
}

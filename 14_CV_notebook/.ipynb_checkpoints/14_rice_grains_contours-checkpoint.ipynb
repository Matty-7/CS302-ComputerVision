{
 "cells": [
  {
   "cell_type": "code",
   "execution_count": null,
   "metadata": {},
   "outputs": [],
   "source": [
    "import matplotlib.pyplot as plt\n",
    "plt.rcParams['axes.labelsize'] = 18\n",
    "plt.rcParams['xtick.labelsize'] = 14\n",
    "plt.rcParams['ytick.labelsize'] = 14\n",
    "%matplotlib inline\n",
    "import numpy as np\n",
    "\n",
    "import cv2\n",
    "\n",
    "from skimage.io import imread\n",
    "from skimage import color "
   ]
  },
  {
   "cell_type": "code",
   "execution_count": null,
   "metadata": {},
   "outputs": [],
   "source": [
    "# we start from an already segmented image\n",
    "img = imread('rice_binarized.png')\n",
    "\n",
    "plt.figure(figsize=(6,6))\n",
    "plt.imshow(img, cmap=plt.cm.gray)\n",
    "plt.axis('off')\n",
    "plt.show()"
   ]
  },
  {
   "cell_type": "code",
   "execution_count": null,
   "metadata": {},
   "outputs": [],
   "source": [
    "# calculation of the contours in the images\n",
    "contours,hierarchy =cv2.findContours(img,                 # if image is boolean you need to convert with np.uint8(img)\n",
    "                                     cv2.RETR_LIST,       # retrieves all contours without establishing any hierarchy\n",
    "                                     cv2.CHAIN_APPROX_NONE# lists all contour points, not endpoints of line segments\n",
    "                                    )"
   ]
  },
  {
   "cell_type": "code",
   "execution_count": null,
   "metadata": {},
   "outputs": [],
   "source": [
    "# pixels belonging to the first contour \n",
    "print(contours[1])"
   ]
  },
  {
   "cell_type": "code",
   "execution_count": null,
   "metadata": {},
   "outputs": [],
   "source": [
    "# draw contours into color image\n",
    "dst = color.gray2rgb(img)\n",
    "image_plus = cv2.drawContours(dst, contours, \n",
    "                              -1,                # index of contour to draw, -1 means all\n",
    "                              (255,0,0),         # color of contour\n",
    "                              2                  # thickness of line, 2 for better visualization\n",
    "                             )\n",
    "\n",
    "plt.figure(figsize=(7,7))\n",
    "plt.imshow(image_plus, cmap=plt.cm.gray)\n",
    "plt.axis('off')\n",
    "plt.title('rice image with contours', fontsize=20)\n",
    "plt.show()"
   ]
  },
  {
   "cell_type": "code",
   "execution_count": null,
   "metadata": {},
   "outputs": [],
   "source": [
    "# compute surrounded area and length of the contours\n",
    "for i in range(len(contours)):\n",
    "        print('Contour {}: Area = {:.2f}, Length = {:.2f}'.format(\n",
    "               i,  cv2.contourArea(contours[i]), cv2.arcLength(contours[i], True))) # True indicates closed contour"
   ]
  },
  {
   "cell_type": "code",
   "execution_count": null,
   "metadata": {},
   "outputs": [],
   "source": [
    "# compute the average length of the contours\n",
    "avg =0\n",
    "for i in range(len(contours)): \n",
    "    length =  cv2.arcLength(contours[i], True)\n",
    "    avg += length\n",
    "    \n",
    "avg = avg / len(contours)\n",
    "\n",
    "print('{:.2f}'.format(avg))"
   ]
  },
  {
   "cell_type": "code",
   "execution_count": null,
   "metadata": {},
   "outputs": [],
   "source": [
    "# draw contours in two colors depending if they are longer or shorter than the average\n",
    "img_f = color.gray2rgb(img)\n",
    "#loop through all contours\n",
    "for i in range(len(contours)):\n",
    "    \n",
    "    if  cv2.arcLength(contours[i], True) < avg:\n",
    "        red =255\n",
    "        blue = 0\n",
    "    else:\n",
    "        blue =255\n",
    "        red = 0\n",
    "        \n",
    "    img_f=cv2.drawContours(img_f,[contours[i]],0,(red,0,blue),2)\n",
    "    \n",
    "plt.figure(figsize=(7,7))\n",
    "plt.imshow(img_f)\n",
    "plt.axis('off')\n",
    "plt.title('contours, sorted', fontsize=20)\n",
    "plt.show()    "
   ]
  },
  {
   "cell_type": "code",
   "execution_count": null,
   "metadata": {},
   "outputs": [],
   "source": []
  },
  {
   "cell_type": "code",
   "execution_count": null,
   "metadata": {},
   "outputs": [],
   "source": []
  }
 ],
 "metadata": {
  "kernelspec": {
   "display_name": "Python 3 (ipykernel)",
   "language": "python",
   "name": "python3"
  },
  "language_info": {
   "codemirror_mode": {
    "name": "ipython",
    "version": 3
   },
   "file_extension": ".py",
   "mimetype": "text/x-python",
   "name": "python",
   "nbconvert_exporter": "python",
   "pygments_lexer": "ipython3",
   "version": "3.11.5"
  }
 },
 "nbformat": 4,
 "nbformat_minor": 2
}

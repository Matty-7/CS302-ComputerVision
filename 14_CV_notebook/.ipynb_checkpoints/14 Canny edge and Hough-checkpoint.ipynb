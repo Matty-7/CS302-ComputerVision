{
 "cells": [
  {
   "cell_type": "code",
   "execution_count": null,
   "metadata": {},
   "outputs": [],
   "source": [
    "import matplotlib.pyplot as plt\n",
    "plt.rcParams['axes.labelsize'] = 18\n",
    "plt.rcParams['xtick.labelsize'] = 14\n",
    "plt.rcParams['ytick.labelsize'] = 14\n",
    "%matplotlib inline\n",
    "import numpy as np\n",
    "\n",
    "from skimage.io import imread\n",
    "from skimage.feature import canny"
   ]
  },
  {
   "cell_type": "code",
   "execution_count": null,
   "metadata": {},
   "outputs": [],
   "source": [
    "# find edges in image\n",
    "img = imread('house.tif')\n",
    "edges_img = canny(img,  sigma=1, low_threshold=55, high_threshold=150)\n",
    "\n",
    "plt.figure(figsize=(14,6))\n",
    "plt.subplot(121)\n",
    "plt.imshow(img,cmap = 'gray')\n",
    "plt.title('Original image', fontsize=20)\n",
    "plt.axis('off')\n",
    "\n",
    "plt.subplot(122)\n",
    "plt.imshow(edges_img,cmap = 'gray')\n",
    "plt.title('Edge image', fontsize=20)\n",
    "plt.axis('off')\n",
    "\n",
    "plt.show()"
   ]
  },
  {
   "cell_type": "markdown",
   "metadata": {},
   "source": [
    "## Hough transformation with skimage"
   ]
  },
  {
   "cell_type": "code",
   "execution_count": null,
   "metadata": {},
   "outputs": [],
   "source": [
    "from skimage.transform import hough_line, hough_line_peaks\n",
    "\n",
    "# create a vector of angles with steps of of 0.5 degree.\n",
    "tested_angles = np.linspace(-np.pi/2, np.pi/2, 360, endpoint=False)\n",
    "\n",
    "# Classic straight-line Hough transform\n",
    "h, theta, r = hough_line(edges_img, theta=tested_angles)\n",
    "# theta and r are vectors containing the Hough space bin coordinates"
   ]
  },
  {
   "cell_type": "code",
   "execution_count": null,
   "metadata": {},
   "outputs": [],
   "source": [
    "# plotting the hough space\n",
    "plt.figure(figsize=(14, 7))\n",
    "\n",
    "# create correct axis labels\n",
    "angle_step = 0.5 * np.diff(theta).mean()\n",
    "r_step = 0.5 * np.diff(r).mean()\n",
    "bounds = [np.rad2deg(theta[0] - angle_step),\n",
    "          np.rad2deg(theta[-1] + angle_step),\n",
    "          r[-1] + r_step, r[0] - r_step]\n",
    "\n",
    "#plt.imshow(h, extent=bounds, cmap='gray', aspect=0.05)\n",
    "plt.imshow(np.log(h+1), extent=bounds, cmap='gray', aspect=0.05)\n",
    "plt.title('Hough space', size = 16)\n",
    "plt.xlabel('Angles', size = 16)\n",
    "plt.ylabel('Distance', size = 16)\n",
    "\n",
    "plt.show()"
   ]
  },
  {
   "cell_type": "code",
   "execution_count": null,
   "metadata": {},
   "outputs": [],
   "source": [
    "# find the 8 highest peaks in hough space\n",
    "lines = zip(*hough_line_peaks(h, theta, r, num_peaks = 8))\n",
    "\n",
    "# plot the detected lines\n",
    "plt.figure(figsize=(7, 7))\n",
    "\n",
    "plt.imshow(img, cmap='gray')\n",
    "\n",
    "# for each line we compute the point in the first and last column\n",
    "x_values = np.array((0, img.shape[1]))\n",
    "\n",
    "# plot each line using the angle and distance\n",
    "for _, angle, dist in lines:    # the first parameter is the line occupancy          \n",
    "    y0, y1 = (dist - x_values * np.cos(angle)) / np.sin(angle)\n",
    "    plt.plot(x_values, (y0, y1), '-r')\n",
    "\n",
    "# we need to adapt the plot size to the image size    \n",
    "plt.xlim(x_values)\n",
    "plt.ylim((img.shape[0], 0))  # flipped, to agree with pixel coordinates\n",
    "\n",
    "plt.axis('off')\n",
    "plt.title('Detected lines')\n",
    "\n",
    "plt.show()"
   ]
  },
  {
   "cell_type": "markdown",
   "metadata": {},
   "source": [
    "## Hough transformation with opencv"
   ]
  },
  {
   "cell_type": "code",
   "execution_count": null,
   "metadata": {},
   "outputs": [],
   "source": [
    "edges_img.dtype"
   ]
  },
  {
   "cell_type": "code",
   "execution_count": null,
   "metadata": {},
   "outputs": [],
   "source": [
    "import cv2\n",
    "\n",
    "# cv.HoughLines(image, rho resolution, theta resolution , threshold)   \n",
    "lines = cv2.HoughLines(np.uint8(edges_img), 1, np.pi/360, 165)\n",
    "\n",
    "# create image that will display the results in BGR\n",
    "cdst = cv2.cvtColor(img, cv2.COLOR_GRAY2BGR)\n",
    "    \n",
    "if lines is not None:\n",
    "    for i in range(0, len(lines)):\n",
    "        rho = lines[i][0][0]\n",
    "        theta = lines[i][0][1]\n",
    "        a = np.cos(theta)\n",
    "        b = np.sin(theta)\n",
    "        x0 = a*rho\n",
    "        y0 = b*rho\n",
    "        x1 = int(x0 + 1000*(-b))\n",
    "        y1 = int(y0 + 1000*(a))\n",
    "        x2 = int(x0 - 1000*(-b))\n",
    "        y2 = int(y0 - 1000*(a))\n",
    "        #draw line into image\n",
    "        cv2.line(cdst,(x1,y1),(x2,y2),(0,0,255),1)\n",
    "\n",
    "        \n",
    "plt.figure(figsize=(7,7))\n",
    "plt.imshow(cdst,cmap = 'gray')\n",
    "plt.title('Hough transform with openCV', fontsize=18)\n",
    "plt.axis('off')\n",
    "\n",
    "plt.show()"
   ]
  },
  {
   "cell_type": "code",
   "execution_count": null,
   "metadata": {},
   "outputs": [],
   "source": []
  }
 ],
 "metadata": {
  "kernelspec": {
   "display_name": "Python 3 (ipykernel)",
   "language": "python",
   "name": "python3"
  },
  "language_info": {
   "codemirror_mode": {
    "name": "ipython",
    "version": 3
   },
   "file_extension": ".py",
   "mimetype": "text/x-python",
   "name": "python",
   "nbconvert_exporter": "python",
   "pygments_lexer": "ipython3",
   "version": "3.11.5"
  }
 },
 "nbformat": 4,
 "nbformat_minor": 2
}

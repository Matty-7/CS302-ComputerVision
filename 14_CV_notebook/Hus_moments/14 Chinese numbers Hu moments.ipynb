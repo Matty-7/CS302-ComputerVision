{
 "cells": [
  {
   "cell_type": "code",
   "execution_count": null,
   "metadata": {},
   "outputs": [],
   "source": [
    "import numpy as np\n",
    "from matplotlib import pyplot as plt\n",
    "plt.rcParams['axes.labelsize'] = 18\n",
    "plt.rcParams['xtick.labelsize'] = 14\n",
    "plt.rcParams['ytick.labelsize'] = 14\n",
    "%matplotlib inline "
   ]
  },
  {
   "cell_type": "code",
   "execution_count": null,
   "metadata": {},
   "outputs": [],
   "source": [
    "# load chinese numbers\n",
    "\n",
    "from skimage.io import imread\n",
    "\n",
    "ling = imread('ling.png')\n",
    "ba = imread('ba.png')\n",
    "wu = imread('wu.png')\n",
    "ling_r_90 = imread('ling_r_90.png')\n",
    "ling_r_45 = imread('ling_r_45.png')\n",
    "ling_rescale = imread('ling_scale.png')\n",
    "ling_translate = imread('ling_translate.png')"
   ]
  },
  {
   "cell_type": "code",
   "execution_count": null,
   "metadata": {},
   "outputs": [],
   "source": [
    "plt.figure(figsize=(18,12))\n",
    " \n",
    "plt.subplot(2,3,1)\n",
    "plt.imshow(ling,cmap='gray')\n",
    "plt.title('')\n",
    "\n",
    "plt.subplot(2,3,2)\n",
    "plt.imshow(ling_rescale,cmap='gray')\n",
    "plt.title('')\n",
    "\n",
    "plt.subplot(2,3,3)\n",
    "plt.imshow(ling_r_90,cmap='gray')\n",
    "plt.title('')\n",
    "\n",
    "plt.subplot(2,3,4)\n",
    "plt.imshow(ling_r_45,cmap='gray')\n",
    "plt.title('')\n",
    "\n",
    "plt.subplot(2,3,5)\n",
    "plt.imshow(ling_translate,cmap='gray')\n",
    "plt.title('')\n",
    "\n",
    "plt.subplot(2,3,6)\n",
    "plt.imshow(wu,cmap='gray')\n",
    "plt.title('')\n",
    "\n",
    "plt.show()"
   ]
  },
  {
   "cell_type": "markdown",
   "metadata": {},
   "source": [
    "### compute Hu's moments"
   ]
  },
  {
   "cell_type": "code",
   "execution_count": null,
   "metadata": {},
   "outputs": [],
   "source": [
    "from skimage.measure import moments_central, moments_normalized, moments_hu\n",
    "np.set_printoptions(precision=2)\n",
    "\n",
    "mu_ling = moments_central(ling)\n",
    "nu_ling = moments_normalized(mu_ling)\n",
    "hu_ling = moments_hu(nu_ling)\n",
    "print(hu_ling)"
   ]
  },
  {
   "cell_type": "code",
   "execution_count": null,
   "metadata": {},
   "outputs": [],
   "source": [
    "# the logarithm makes numbers easier to handle, sign needs to be split of before log\n",
    "hu_ling= np.sign(hu_ling)*np.log(np.abs(hu_ling))\n",
    "print(hu_ling)"
   ]
  },
  {
   "cell_type": "markdown",
   "metadata": {},
   "source": [
    "### translation does not change Hu's moments"
   ]
  },
  {
   "cell_type": "code",
   "execution_count": null,
   "metadata": {},
   "outputs": [],
   "source": [
    "mu_ling_t = moments_central(ling_translate)\n",
    "nu_ling_t = moments_normalized(mu_ling_t)\n",
    "hu_ling_t = moments_hu(nu_ling_t)\n",
    "hu_ling_t = np.sign(hu_ling_t)*np.log(np.abs(hu_ling_t))\n",
    "print(hu_ling_t)\n",
    "print(hu_ling - hu_ling_t)"
   ]
  },
  {
   "cell_type": "markdown",
   "metadata": {},
   "source": [
    "### other digits are clearly distinguishable"
   ]
  },
  {
   "cell_type": "code",
   "execution_count": null,
   "metadata": {},
   "outputs": [],
   "source": [
    "mu_wu = moments_central(wu)\n",
    "nu_wu = moments_normalized(mu_wu)\n",
    "hu_wu = moments_hu(nu_wu)\n",
    "hu_wu= np.sign(hu_wu)*np.log(np.abs(hu_wu))\n",
    "print(hu_wu)\n",
    "print(hu_ling - hu_wu)"
   ]
  },
  {
   "cell_type": "code",
   "execution_count": null,
   "metadata": {},
   "outputs": [],
   "source": [
    "mu_ba = moments_central(ba)\n",
    "nu_ba = moments_normalized(mu_ba)\n",
    "hu_ba = moments_hu(nu_ba)\n",
    "hu_ba= np.sign(hu_ba)*np.log(np.abs(hu_ba))\n",
    "print(hu_ba)\n",
    "print(hu_ling - hu_ba)"
   ]
  },
  {
   "cell_type": "markdown",
   "metadata": {},
   "source": [
    "### scaling and rotation change the Hu moments very little"
   ]
  },
  {
   "cell_type": "code",
   "execution_count": null,
   "metadata": {},
   "outputs": [],
   "source": [
    "mu_ling_rescale = moments_central(ling_rescale)\n",
    "nu_ling_rescale = moments_normalized(mu_ling_rescale)\n",
    "hu_ling_rescale = moments_hu(nu_ling_rescale)\n",
    "hu_ling_rescale = np.sign(hu_ling_rescale)*np.log(np.abs(hu_ling_rescale))\n",
    "\n",
    "print(hu_ling - hu_ling_rescale)"
   ]
  },
  {
   "cell_type": "code",
   "execution_count": null,
   "metadata": {},
   "outputs": [],
   "source": [
    "mu_ling_r_90 = moments_central(ling_r_90)\n",
    "nu_ling_r_90 = moments_normalized(mu_ling_r_90)\n",
    "hu_ling_r_90 = moments_hu(nu_ling_r_90)\n",
    "hu_ling_r_90 = np.sign(hu_ling_r_90)*np.log(np.abs(hu_ling_r_90))\n",
    "\n",
    "print(hu_ling - hu_ling_r_90)"
   ]
  },
  {
   "cell_type": "code",
   "execution_count": null,
   "metadata": {},
   "outputs": [],
   "source": [
    "mu_ling_r_45 = moments_central(ling_r_45)\n",
    "nu_ling_r_45 = moments_normalized(mu_ling_r_45)\n",
    "hu_ling_r_45 = moments_hu(nu_ling_r_45)\n",
    "hu_ling_r_45 = np.sign(hu_ling_r_45)*np.log(np.abs(hu_ling_r_45))\n",
    "\n",
    "print(hu_ling - hu_ling_r_45)"
   ]
  },
  {
   "cell_type": "code",
   "execution_count": null,
   "metadata": {},
   "outputs": [],
   "source": []
  }
 ],
 "metadata": {
  "kernelspec": {
   "display_name": "Python 3 (ipykernel)",
   "language": "python",
   "name": "python3"
  },
  "language_info": {
   "codemirror_mode": {
    "name": "ipython",
    "version": 3
   },
   "file_extension": ".py",
   "mimetype": "text/x-python",
   "name": "python",
   "nbconvert_exporter": "python",
   "pygments_lexer": "ipython3",
   "version": "3.11.5"
  }
 },
 "nbformat": 4,
 "nbformat_minor": 2
}

{
 "cells": [
  {
   "cell_type": "code",
   "execution_count": null,
   "metadata": {},
   "outputs": [],
   "source": [
    "import numpy as np \n",
    "\n",
    "from matplotlib import pyplot as plt\n",
    "plt.rcParams['axes.labelsize'] = 17\n",
    "plt.rcParams['xtick.labelsize'] = 14\n",
    "plt.rcParams['ytick.labelsize'] = 14\n",
    "%matplotlib inline "
   ]
  },
  {
   "cell_type": "code",
   "execution_count": null,
   "metadata": {},
   "outputs": [],
   "source": [
    "from skimage.io import imread\n",
    "shape = imread('shape_noise.png')"
   ]
  },
  {
   "cell_type": "code",
   "execution_count": null,
   "metadata": {},
   "outputs": [],
   "source": [
    "plt.figure(figsize=(14,6))\n",
    "\n",
    "plt.subplot(121)\n",
    "plt.imshow(shape, cmap=plt.cm.gray)\n",
    "plt.axis('off')\n",
    "plt.title('polygon with noise', fontsize=20)\n",
    "\n",
    "plt.subplot(122)\n",
    "plt.hist(shape.flatten(), bins=255)\n",
    "plt.ylabel('number')\n",
    "plt.xlabel('gray value')\n",
    "\n",
    "plt.show()"
   ]
  },
  {
   "cell_type": "code",
   "execution_count": null,
   "metadata": {},
   "outputs": [],
   "source": [
    "# binarization with a given threshold\n",
    "bina_140 = (shape >140)\n",
    "\n",
    "# binarization with Otsu's threshold\n",
    "from skimage import filters\n",
    "otsu = filters.threshold_otsu(shape)\n",
    "bina_otsu = (shape > otsu)\n",
    "\n",
    "print('Otsu threshold: {:.3}'.format(otsu ))"
   ]
  },
  {
   "cell_type": "code",
   "execution_count": null,
   "metadata": {},
   "outputs": [],
   "source": [
    "plt.figure(figsize=(17,8))\n",
    "\n",
    "plt.subplot(121)\n",
    "plt.imshow(bina_140, cmap=plt.cm.gray)\n",
    "plt.axis('off')\n",
    "plt.title('binarized with 140', fontsize=20)\n",
    "\n",
    "plt.subplot(122)\n",
    "plt.imshow(bina_otsu, cmap=plt.cm.gray)\n",
    "plt.axis('off')\n",
    "plt.title('binarized with Otsus threshold', fontsize=20)\n",
    "\n",
    "plt.show()"
   ]
  },
  {
   "cell_type": "markdown",
   "metadata": {},
   "source": [
    "### we can handle this problem with a lowpass filter\n",
    "another option are morphological filters (still to be covered)"
   ]
  },
  {
   "cell_type": "code",
   "execution_count": null,
   "metadata": {},
   "outputs": [],
   "source": [
    "# decreasing the noise by lowpass filtering\n",
    "from skimage import filters\n",
    "shape_lp  = filters.gaussian(shape, sigma=3)"
   ]
  },
  {
   "cell_type": "code",
   "execution_count": null,
   "metadata": {},
   "outputs": [],
   "source": [
    "otsu = filters.threshold_otsu(shape_lp)\n",
    "print('Otsu threshold after lowpass: {:.2}'.format(otsu) )\n",
    "\n",
    "bina_lp_otsu = (shape_lp > otsu)"
   ]
  },
  {
   "cell_type": "code",
   "execution_count": null,
   "metadata": {},
   "outputs": [],
   "source": [
    "plt.figure(figsize=(20,5))\n",
    "\n",
    "plt.subplot(131)\n",
    "plt.hist(shape_lp.flatten(), bins=255)\n",
    "plt.ylabel('number')\n",
    "plt.xlabel('gray value')  \n",
    "plt.title('Gaussian changes histogram', fontsize=20)\n",
    "\n",
    "plt.subplot(132)\n",
    "plt.imshow(shape_lp, cmap=plt.cm.gray)\n",
    "plt.axis('off')\n",
    "plt.title('polygon after Gaussian', fontsize=20)\n",
    "\n",
    "plt.subplot(133)\n",
    "plt.imshow(bina_lp_otsu, cmap=plt.cm.gray)\n",
    "plt.axis('off')\n",
    "plt.title('Gaussian, then Otsu binarization', fontsize=20)\n",
    "\n",
    "plt.show()"
   ]
  },
  {
   "cell_type": "code",
   "execution_count": null,
   "metadata": {},
   "outputs": [],
   "source": []
  }
 ],
 "metadata": {
  "kernelspec": {
   "display_name": "Python 3 (ipykernel)",
   "language": "python",
   "name": "python3"
  },
  "language_info": {
   "codemirror_mode": {
    "name": "ipython",
    "version": 3
   },
   "file_extension": ".py",
   "mimetype": "text/x-python",
   "name": "python",
   "nbconvert_exporter": "python",
   "pygments_lexer": "ipython3",
   "version": "3.11.5"
  }
 },
 "nbformat": 4,
 "nbformat_minor": 2
}

{
 "cells": [
  {
   "cell_type": "code",
   "execution_count": null,
   "metadata": {},
   "outputs": [],
   "source": [
    "import numpy as np\n",
    "import matplotlib.pyplot as plt\n",
    "plt.rcParams['axes.labelsize'] = 20\n",
    "plt.rcParams['xtick.labelsize'] = 16\n",
    "plt.rcParams['ytick.labelsize'] = 16\n",
    "%matplotlib inline  \n",
    "\n",
    "from skimage.io import imread\n",
    "\n",
    "astro = imread('astronaut.png')\n",
    "r = astro[:,:,0]\n",
    "g = astro[:,:,1]\n",
    "b = astro[:,:,2]"
   ]
  },
  {
   "cell_type": "code",
   "execution_count": null,
   "metadata": {},
   "outputs": [],
   "source": [
    "# import library for 3D plotting\n",
    "from mpl_toolkits import mplot3d\n",
    "from matplotlib import colors\n",
    "%matplotlib notebook\n",
    "\n",
    "# create list with colors for coloring plot points\n",
    "img_size = astro.shape[0] * astro.shape[1]\n",
    "pixel_colors = astro.reshape(img_size, 3)\n",
    "norm = colors.Normalize()\n",
    "pixel_colors = norm(pixel_colors).tolist() \n",
    "\n",
    "# make an interactive plot\n",
    "plt.figure('RGB histogram', figsize=(10,10))\n",
    "ax = plt.axes(projection = '3d')\n",
    "\n",
    "# plot every 50th pixel (only for performanc reasons)\n",
    "ax.scatter(r.flatten()[::50],g.flatten()[::50],b.flatten()[::50], facecolor = pixel_colors[::50], marker='.')\n",
    "ax.set_xlabel('red')\n",
    "ax.set_ylabel('green')\n",
    "ax.set_zlabel('blue')\n",
    "plt.show()"
   ]
  },
  {
   "cell_type": "code",
   "execution_count": null,
   "metadata": {},
   "outputs": [],
   "source": [
    "# segmentation in color space with three conditions\n",
    "# & is a logical and condition\n",
    "\n",
    "binary_image = (r>170) & (b<110) & (g <140)"
   ]
  },
  {
   "cell_type": "code",
   "execution_count": null,
   "metadata": {},
   "outputs": [],
   "source": [
    "%matplotlib inline\n",
    "\n",
    "plt.figure(figsize=(14,6))\n",
    "\n",
    "plt.subplot(121)\n",
    "plt.imshow(astro)\n",
    "plt.axis('off')\n",
    "plt.title('Eileen Collins', fontsize=20)\n",
    "\n",
    "plt.subplot(122)\n",
    "plt.imshow(binary_image, cmap=plt.cm.gray)\n",
    "plt.axis('off')\n",
    "plt.title('space_suit', fontsize=20)\n",
    "\n",
    "plt.show()"
   ]
  },
  {
   "cell_type": "code",
   "execution_count": null,
   "metadata": {},
   "outputs": [],
   "source": [
    "binary_image_rgb = np.stack((r * binary_image, g * binary_image, b * binary_image), axis = -1)\n",
    "\n",
    "plt.figure(figsize=(12,6))\n",
    "\n",
    "plt.imshow(binary_image_rgb)\n",
    "plt.axis('off')\n",
    "plt.title('space_suit', fontsize=20)\n",
    "\n",
    "plt.show()"
   ]
  },
  {
   "cell_type": "code",
   "execution_count": null,
   "metadata": {},
   "outputs": [],
   "source": []
  },
  {
   "cell_type": "code",
   "execution_count": null,
   "metadata": {},
   "outputs": [],
   "source": []
  }
 ],
 "metadata": {
  "kernelspec": {
   "display_name": "Python 3 (ipykernel)",
   "language": "python",
   "name": "python3"
  },
  "language_info": {
   "codemirror_mode": {
    "name": "ipython",
    "version": 3
   },
   "file_extension": ".py",
   "mimetype": "text/x-python",
   "name": "python",
   "nbconvert_exporter": "python",
   "pygments_lexer": "ipython3",
   "version": "3.11.5"
  }
 },
 "nbformat": 4,
 "nbformat_minor": 2
}

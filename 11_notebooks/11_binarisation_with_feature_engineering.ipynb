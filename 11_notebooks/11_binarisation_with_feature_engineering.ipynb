{
 "cells": [
  {
   "cell_type": "code",
   "execution_count": null,
   "metadata": {},
   "outputs": [],
   "source": [
    "import numpy as np\n",
    "from matplotlib import pyplot as plt\n",
    "plt.rcParams['axes.labelsize'] = 17\n",
    "plt.rcParams['xtick.labelsize'] = 14\n",
    "plt.rcParams['ytick.labelsize'] = 14\n",
    "%matplotlib inline\n",
    "\n",
    "from skimage.io import imread\n",
    "from skimage.color import rgb2gray"
   ]
  },
  {
   "cell_type": "code",
   "execution_count": null,
   "metadata": {},
   "outputs": [],
   "source": [
    "img = rgb2gray(imread('texture.png'))\n",
    "plt.figure(figsize=(14,5))\n",
    "\n",
    "plt.subplot(121)\n",
    "plt.imshow(img, cmap=plt.cm.gray)\n",
    "plt.title('gray value binarisation will not work')\n",
    "plt.axis('off')\n",
    "plt.colorbar()\n",
    "\n",
    "plt.subplot(122)\n",
    "plt.hist(img.flatten(), bins=256, range=(0,1)) \n",
    "plt.ylabel('number of pixels')\n",
    "plt.xlabel('gray value')\n",
    "plt.title('histogram')\n",
    "\n",
    "plt.show()"
   ]
  },
  {
   "cell_type": "markdown",
   "metadata": {},
   "source": [
    "## \"feature engineering\""
   ]
  },
  {
   "cell_type": "code",
   "execution_count": null,
   "metadata": {},
   "outputs": [],
   "source": [
    "# a function returning the standard deviation of the gray values in image A at position r_0, c_0,\n",
    "# computed in a square of sidelength 2*size + 1\n",
    "def local_std(A, r_0, c_0, size=2):\n",
    "    r_min = max(0, r_0 - size)\n",
    "    r_max = min(A.shape[0] - 1, r_0 + size + 1)\n",
    "    c_min = max(0, c_0 - size)\n",
    "    c_max = min(A.shape[1] - 1, c_0 + size + 1)\n",
    "    square = A[r_min:r_max, c_min:c_max].flatten()\n",
    "    return np.std(square)"
   ]
  },
  {
   "cell_type": "code",
   "execution_count": null,
   "metadata": {},
   "outputs": [],
   "source": [
    "std_img = np.zeros(img.shape)\n",
    "\n",
    "for r in range(0, img.shape[0]):\n",
    "    for c in range(0, img.shape[1]):\n",
    "        std_img[r,c]=local_std(img, r, c)"
   ]
  },
  {
   "cell_type": "code",
   "execution_count": null,
   "metadata": {},
   "outputs": [],
   "source": [
    "plt.figure(figsize=(14,5))\n",
    "\n",
    "plt.subplot(121)\n",
    "plt.imshow(std_img, cmap=plt.cm.gray)\n",
    "plt.title('original image')\n",
    "plt.axis('off')\n",
    "\n",
    "plt.subplot(122)\n",
    "plt.subplot(122)\n",
    "plt.hist(std_img.flatten(), bins=256)#, range=(0,1)) \n",
    "plt.ylabel('number of pixels')\n",
    "plt.xlabel('gray value')\n",
    "plt.title('histogram')\n",
    "          \n",
    "plt.show()\n"
   ]
  },
  {
   "cell_type": "code",
   "execution_count": null,
   "metadata": {},
   "outputs": [],
   "source": [
    "# binarization with Otsu's threshold\n",
    "from skimage import filters\n",
    "otsu = filters.threshold_otsu(std_img)\n",
    "bina_otsu = (std_img > otsu)\n",
    "\n",
    "print('Otsu threshold: {:.3}'.format(otsu ))"
   ]
  },
  {
   "cell_type": "code",
   "execution_count": null,
   "metadata": {},
   "outputs": [],
   "source": [
    "plt.figure(figsize=(17,8))\n",
    "\n",
    "plt.subplot(121)\n",
    "plt.imshow(img, cmap=plt.cm.gray)\n",
    "plt.axis('off')\n",
    "plt.title('original image', fontsize=20)\n",
    "\n",
    "plt.subplot(122)\n",
    "plt.imshow(bina_otsu, cmap=plt.cm.gray)\n",
    "plt.axis('off')\n",
    "plt.title('binarized with Otsus threshold', fontsize=20)\n",
    "\n",
    "plt.show()"
   ]
  },
  {
   "cell_type": "code",
   "execution_count": null,
   "metadata": {},
   "outputs": [],
   "source": []
  }
 ],
 "metadata": {
  "kernelspec": {
   "display_name": "Python 3 (ipykernel)",
   "language": "python",
   "name": "python3"
  },
  "language_info": {
   "codemirror_mode": {
    "name": "ipython",
    "version": 3
   },
   "file_extension": ".py",
   "mimetype": "text/x-python",
   "name": "python",
   "nbconvert_exporter": "python",
   "pygments_lexer": "ipython3",
   "version": "3.11.5"
  }
 },
 "nbformat": 4,
 "nbformat_minor": 4
}

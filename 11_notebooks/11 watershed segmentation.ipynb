{
 "cells": [
  {
   "cell_type": "code",
   "execution_count": null,
   "id": "8549dd55",
   "metadata": {},
   "outputs": [],
   "source": [
    "import numpy as np\n",
    "import matplotlib.pyplot as plt\n",
    "plt.rcParams['axes.labelsize'] = 18\n",
    "plt.rcParams['xtick.labelsize'] = 14\n",
    "plt.rcParams['ytick.labelsize'] = 14\n",
    "%matplotlib inline         \n",
    "\n",
    "from skimage.io import imread\n",
    "\n",
    "from scipy import ndimage as ndi\n",
    "\n",
    "from skimage.segmentation import watershed\n",
    "from skimage.color import rgb2gray"
   ]
  },
  {
   "cell_type": "markdown",
   "id": "c877c5a7",
   "metadata": {},
   "source": [
    "## convert color to B&W, thresholding   "
   ]
  },
  {
   "cell_type": "code",
   "execution_count": null,
   "id": "4d5b5d75",
   "metadata": {},
   "outputs": [],
   "source": [
    "img_c = imread('coins.jpg')\n",
    "img = rgb2gray(img_c)\n",
    "img_bina_inv = (img < 0.55)\n",
    "\n",
    "plt.figure(figsize=(14,7))\n",
    "plt.subplot(131)\n",
    "plt.imshow(img_c)\n",
    "plt.title('coins color', fontsize=18)\n",
    "plt.axis('off')\n",
    "\n",
    "plt.subplot(132)\n",
    "plt.imshow(img, cmap=plt.cm.gray)\n",
    "plt.title('coins b&w', fontsize=18)\n",
    "plt.axis('off')\n",
    "\n",
    "plt.subplot(133)\n",
    "plt.imshow(img_bina_inv, cmap=plt.cm.gray)\n",
    "plt.title('coins binarized, inverted', fontsize=18)\n",
    "plt.axis('off')\n",
    "\n",
    "plt.show()"
   ]
  },
  {
   "cell_type": "markdown",
   "id": "58fd8bf7",
   "metadata": {},
   "source": [
    "## binarization gave us a semantic segmentation, we now want an instance segmentation"
   ]
  },
  {
   "cell_type": "markdown",
   "id": "82009e1a",
   "metadata": {},
   "source": [
    "### 1) compute Euclidean distance transform and invert it"
   ]
  },
  {
   "cell_type": "code",
   "execution_count": null,
   "id": "30770211",
   "metadata": {},
   "outputs": [],
   "source": [
    "# Euclidean distance transform \n",
    "edt = ndi.distance_transform_edt(img_bina_inv)\n",
    "\n",
    "print(edt.max())\n",
    "\n",
    "# the actual watershed algorithm works on the inverse of the Euclidean distance transform (coins need to be darker)\n",
    "inv_edt= edt.max()-edt\n",
    "\n",
    "\n",
    "plt.figure(figsize=(14,6))\n",
    "\n",
    "plt.subplot(121)\n",
    "plt.imshow(edt, cmap=plt.cm.gray)\n",
    "plt.title('Euclidean Distance Transform', fontsize=18)\n",
    "plt.axis('off')\n",
    "plt.colorbar()\n",
    "\n",
    "plt.subplot(122)\n",
    "plt.imshow(inv_edt, cmap=plt.cm.gray)\n",
    "plt.title('inverse EDT', fontsize=18)\n",
    "plt.axis('off')\n",
    "plt.colorbar()\n",
    "\n",
    "plt.show()"
   ]
  },
  {
   "cell_type": "markdown",
   "id": "492b649a",
   "metadata": {},
   "source": [
    "### 2) create labels to mark different basins"
   ]
  },
  {
   "cell_type": "code",
   "execution_count": null,
   "id": "d791f7a9",
   "metadata": {},
   "outputs": [],
   "source": [
    "# find coin centers\n",
    "mask = edt>20\n",
    "\n",
    "# assign coin centers different integers\n",
    "markers, _ = ndi.label(mask)\n",
    "\n",
    "print(markers.max())\n",
    "\n",
    "plt.figure(figsize=(10,7))\n",
    "\n",
    "plt.subplot(121)\n",
    "plt.imshow(mask,cmap='gray')\n",
    "plt.title('mask', fontsize=20)\n",
    "plt.axis('off')\n",
    "\n",
    "plt.subplot(122)\n",
    "plt.imshow(markers,cmap='gray')\n",
    "plt.title('markers', fontsize=20)\n",
    "plt.axis('off')\n",
    "\n",
    "plt.show()\n"
   ]
  },
  {
   "cell_type": "markdown",
   "id": "aad5d754",
   "metadata": {},
   "source": [
    "### 3) the actual watershed algorithm"
   ]
  },
  {
   "cell_type": "code",
   "execution_count": null,
   "id": "02d4834a",
   "metadata": {},
   "outputs": [],
   "source": [
    "label_img = watershed(inv_edt, \n",
    "                      markers,             # where to start basins & provide labels\n",
    "                      mask=img_bina_inv    # mask avoids assigning labels to background pixels\n",
    "                     ) \n",
    "\n",
    "plt.figure(figsize=(18,10))\n",
    "\n",
    "plt.subplot(121)\n",
    "plt.imshow(img_c)\n",
    "plt.title('coins', fontsize=20)\n",
    "plt.axis('off')\n",
    "\n",
    "plt.subplot(122)\n",
    "plt.imshow(label_img)\n",
    "plt.title('watershed segmentation', fontsize=20)\n",
    "plt.axis('off')\n",
    "plt.show()\n"
   ]
  },
  {
   "cell_type": "code",
   "execution_count": null,
   "id": "f70bc53e",
   "metadata": {},
   "outputs": [],
   "source": []
  }
 ],
 "metadata": {
  "kernelspec": {
   "display_name": "Python 3 (ipykernel)",
   "language": "python",
   "name": "python3"
  },
  "language_info": {
   "codemirror_mode": {
    "name": "ipython",
    "version": 3
   },
   "file_extension": ".py",
   "mimetype": "text/x-python",
   "name": "python",
   "nbconvert_exporter": "python",
   "pygments_lexer": "ipython3",
   "version": "3.11.5"
  }
 },
 "nbformat": 4,
 "nbformat_minor": 5
}

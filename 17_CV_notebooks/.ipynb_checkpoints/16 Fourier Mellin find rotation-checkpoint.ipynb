{
 "cells": [
  {
   "cell_type": "code",
   "execution_count": null,
   "metadata": {},
   "outputs": [],
   "source": [
    "import numpy as np\n",
    "from matplotlib import pyplot as plt\n",
    "plt.rcParams['axes.labelsize'] = 17\n",
    "plt.rcParams['xtick.labelsize'] = 12\n",
    "plt.rcParams['ytick.labelsize'] = 12\n",
    "plt.rc('axes', unicode_minus=False)  \n",
    "%matplotlib inline "
   ]
  },
  {
   "cell_type": "code",
   "execution_count": null,
   "metadata": {},
   "outputs": [],
   "source": [
    "# load chinese numbers\n",
    "from skimage.io import imread\n",
    "\n",
    "ling = imread('ling.png')\n",
    "ling_r_90 = imread('ling_r_90.png')\n",
    "ling_r_45 = imread('ling_r_45.png')\n",
    "ling_translate = imread('ling_translate.png')\n",
    "\n",
    "\n",
    "plt.figure(figsize=(7,7))\n",
    " \n",
    "plt.subplot(2,2,1)\n",
    "plt.imshow(ling,cmap='gray')\n",
    "plt.title('original')\n",
    "\n",
    "plt.subplot(2,2,2)\n",
    "plt.imshow(ling_r_90,cmap='gray')\n",
    "plt.title('90° rotated')\n",
    "\n",
    "plt.subplot(2,2,3)\n",
    "plt.imshow(ling_r_45,cmap='gray')\n",
    "plt.title('45° rotated')\n",
    "\n",
    "plt.subplot(2,2,4)\n",
    "plt.imshow(ling_translate,cmap='gray')\n",
    "plt.title('translated')\n",
    "\n",
    "plt.show()"
   ]
  },
  {
   "cell_type": "markdown",
   "metadata": {},
   "source": [
    "### Fourier transforming image and taking absolute value removes translation information"
   ]
  },
  {
   "cell_type": "code",
   "execution_count": null,
   "metadata": {},
   "outputs": [],
   "source": [
    "# Fourier Transform, fft-shift and absolute values\n",
    "ling_fft = np.abs(np.fft.fftshift(np.fft.fft2(ling)))\n",
    "ling_translate_fft = np.abs(np.fft.fftshift(np.fft.fft2(ling_translate)))\n",
    "ling_r_90_fft = np.abs(np.fft.fftshift(np.fft.fft2(ling_r_90)))\n",
    "ling_r_45_fft = np.abs(np.fft.fftshift(np.fft.fft2(ling_r_45)))"
   ]
  },
  {
   "cell_type": "code",
   "execution_count": null,
   "metadata": {},
   "outputs": [],
   "source": [
    "plt.figure(figsize=(7,7))\n",
    "plt.subplot(221)\n",
    "plt.imshow(np.log(ling_fft), cmap=plt.cm.gray)\n",
    "plt.axis('off')\n",
    "plt.title('ling', size = 16)\n",
    "\n",
    "plt.subplot(222)\n",
    "plt.imshow(np.log(ling_translate_fft), cmap=plt.cm.gray)\n",
    "plt.axis('off')\n",
    "plt.title('ling translated', size = 16)\n",
    "\n",
    "plt.subplot(223)\n",
    "plt.imshow(np.log(ling_r_45_fft), cmap=plt.cm.gray)\n",
    "plt.axis('off')\n",
    "plt.title('ling rotated 45°', size = 16)\n",
    "\n",
    "plt.subplot(224)\n",
    "plt.imshow(np.log(ling_r_90_fft), cmap=plt.cm.gray)\n",
    "plt.axis('off')\n",
    "plt.title('ling rotated 90°', size = 16)\n",
    "\n",
    "plt.show()"
   ]
  },
  {
   "cell_type": "code",
   "execution_count": null,
   "metadata": {},
   "outputs": [],
   "source": [
    "print('difference original and translated: {:.3e}'.format(np.sum(ling_fft - ling_translate_fft)))\n",
    "print('difference original and rotated: {:.3e}'.format(np.sum(ling_fft - ling_r_45_fft)))"
   ]
  },
  {
   "cell_type": "markdown",
   "metadata": {},
   "source": [
    "### finding the rotation angle by using a polar coordinate transformation"
   ]
  },
  {
   "cell_type": "code",
   "execution_count": null,
   "metadata": {},
   "outputs": [],
   "source": [
    "from skimage.transform import rotate, warp_polar\n",
    "radius =ling.shape[0]/2\n",
    "print(radius)\n",
    "\n",
    "ling_fft_polar = warp_polar(ling_fft, radius=radius)\n",
    "ling_r_90_fft_polar = warp_polar(ling_r_90_fft, radius=radius)\n",
    "ling_r_45_fft_polar = warp_polar(ling_r_45_fft, radius=radius)"
   ]
  },
  {
   "cell_type": "code",
   "execution_count": null,
   "metadata": {},
   "outputs": [],
   "source": [
    "plt.figure(figsize=(14,6))\n",
    "\n",
    "plt.subplot(131)\n",
    "plt.imshow(np.log(ling_fft_polar), cmap=plt.cm.gray)\n",
    "plt.xlabel('radius')\n",
    "plt.ylabel('angle')\n",
    "plt.title('ling FFT polar', size = 16)\n",
    "\n",
    "plt.subplot(132)\n",
    "plt.imshow(np.log(ling_r_45_fft_polar), cmap=plt.cm.gray)\n",
    "plt.xlabel('radius')\n",
    "plt.ylabel('angle')\n",
    "plt.title('ling rotated 45° FFT polar', size = 16)\n",
    "\n",
    "plt.subplot(133)\n",
    "plt.imshow(np.log(ling_r_90_fft_polar), cmap=plt.cm.gray)\n",
    "plt.xlabel('radius')\n",
    "plt.ylabel('angle')\n",
    "plt.title('ling rotated 90° FFT polar', size = 16)\n",
    "\n",
    "plt.show()"
   ]
  },
  {
   "cell_type": "markdown",
   "metadata": {},
   "source": [
    "### so the polar representation of the Fourier space turns rotation in a translation, which we can find with a correlation"
   ]
  },
  {
   "cell_type": "code",
   "execution_count": null,
   "metadata": {},
   "outputs": [],
   "source": [
    "# finding the rotation angle for the 45° rotated image\n",
    "# the rotate(...., 180) is again for the conversion from a convolution to a correlation\n",
    "angular_correlation = np.fft.ifft2( np.fft.fft2(ling_fft_polar) * np.fft.fft2(rotate(ling_r_45_fft_polar,180)) )"
   ]
  },
  {
   "cell_type": "code",
   "execution_count": null,
   "metadata": {},
   "outputs": [],
   "source": [
    "plt.figure(figsize=(14,6))\n",
    "plt.subplot(121)\n",
    "plt.imshow(np.log(np.abs(angular_correlation)), cmap=plt.cm.gray)\n",
    "plt.xlabel('radius')\n",
    "plt.ylabel('angle')\n",
    "plt.title('correlation in polar coordinates', size = 16)\n",
    "\n",
    "plt.subplot(122)\n",
    "plt.plot(np.abs(angular_correlation[:,0]))\n",
    "plt.xlabel('angle (°)')\n",
    "plt.ylabel('correlation amplitude')\n",
    "plt.show()"
   ]
  },
  {
   "cell_type": "code",
   "execution_count": null,
   "metadata": {},
   "outputs": [],
   "source": []
  }
 ],
 "metadata": {
  "kernelspec": {
   "display_name": "Python 3 (ipykernel)",
   "language": "python",
   "name": "python3"
  },
  "language_info": {
   "codemirror_mode": {
    "name": "ipython",
    "version": 3
   },
   "file_extension": ".py",
   "mimetype": "text/x-python",
   "name": "python",
   "nbconvert_exporter": "python",
   "pygments_lexer": "ipython3",
   "version": "3.11.5"
  }
 },
 "nbformat": 4,
 "nbformat_minor": 2
}

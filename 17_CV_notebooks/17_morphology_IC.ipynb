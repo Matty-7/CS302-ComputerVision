{
 "cells": [
  {
   "cell_type": "code",
   "execution_count": null,
   "metadata": {},
   "outputs": [],
   "source": [
    "import numpy as np\n",
    "from matplotlib import pyplot as plt\n",
    "plt.rcParams['axes.labelsize'] = 20\n",
    "plt.rcParams['xtick.labelsize'] = 16\n",
    "plt.rcParams['ytick.labelsize'] = 16\n",
    "%matplotlib inline "
   ]
  },
  {
   "cell_type": "code",
   "execution_count": null,
   "metadata": {},
   "outputs": [],
   "source": [
    "# load image and binarize with local threshold\n",
    "from skimage.io import imread\n",
    "img = imread('bloodvessels.jpg')[200:,200:,:] # we use the bottom right part of the image\n",
    "gray = img[:,:,1]  # we use the green channel as a BW image\n",
    "\n",
    "from skimage import filters\n",
    "local = filters.threshold_local(gray, 251, offset = -12) # there is an intensity gradient in the image\n",
    "bw = (gray > local)\n",
    "\n",
    "plt.figure(figsize=(18,7))\n",
    "\n",
    "plt.subplot(121)\n",
    "plt.imshow(img)\n",
    "plt.axis('off')\n",
    "plt.title('blood vessels', fontsize=20)\n",
    "\n",
    "plt.subplot(122)\n",
    "plt.imshow(bw, cmap= 'gray')\n",
    "plt.axis('off')\n",
    "plt.title('binarized', fontsize=20)\n",
    "\n",
    "plt.show()"
   ]
  },
  {
   "cell_type": "code",
   "execution_count": null,
   "metadata": {},
   "outputs": [],
   "source": [
    "# comparison of erosion and dilation\n",
    "from skimage.morphology import square, disk, erosion,  dilation\n",
    "\n",
    "selem = square(3)\n",
    "eroded = erosion(bw, selem)\n",
    "dilated = dilation(bw, selem)\n",
    "\n",
    "plt.figure(figsize=(18,7))\n",
    "plt.subplot(131)\n",
    "plt.imshow(bw[300:, 300:], cmap= 'gray')\n",
    "plt.axis('off')\n",
    "plt.title('binarized', fontsize=20)\n",
    "\n",
    "plt.subplot(132)\n",
    "plt.imshow(eroded[300:, 300:], cmap= 'gray')\n",
    "plt.axis('off')\n",
    "plt.title('eroded', fontsize=20)\n",
    "\n",
    "plt.subplot(133)\n",
    "plt.imshow(dilated[300:, 300:], cmap= 'gray')\n",
    "plt.axis('off')\n",
    "plt.title('dilation', fontsize=20)\n",
    "plt.show()"
   ]
  },
  {
   "cell_type": "code",
   "execution_count": null,
   "metadata": {},
   "outputs": [],
   "source": [
    "# comparison opening and closing\n",
    "from skimage.morphology import opening, closing\n",
    "\n",
    "selem = square(4)\n",
    "opened = opening(bw, selem)\n",
    "closed = closing(bw, selem)\n",
    "\n",
    "plt.figure(figsize=(18,7))\n",
    "plt.subplot(131)\n",
    "plt.imshow(bw[300:, 300:], cmap= 'gray')\n",
    "plt.axis('off')\n",
    "plt.title('binarized', fontsize=20)\n",
    "\n",
    "plt.subplot(132)\n",
    "plt.imshow(opened[300:, 300:], cmap= 'gray')\n",
    "plt.axis('off')\n",
    "plt.title('opening', fontsize=20)\n",
    "\n",
    "plt.subplot(133)\n",
    "plt.imshow(closed[300:, 300:], cmap= 'gray')\n",
    "plt.axis('off')\n",
    "plt.title('closing', fontsize=20)\n",
    "plt.show()"
   ]
  },
  {
   "cell_type": "code",
   "execution_count": null,
   "metadata": {},
   "outputs": [],
   "source": [
    "# opening after closing optimizes  the binarized image\n",
    "selem = square(3)\n",
    "op_cl = opening(closed, selem)\n",
    "\n",
    "plt.figure(figsize=(16,7))\n",
    "\n",
    "plt.subplot(121)\n",
    "plt.imshow(img, cmap= 'gray')\n",
    "plt.axis('off')\n",
    "plt.title('raw image', fontsize=20)\n",
    "\n",
    "plt.subplot(122)\n",
    "plt.imshow(op_cl, cmap= 'gray')\n",
    "plt.axis('off')\n",
    "plt.title('opening after closing', fontsize=20)\n",
    "plt.show()"
   ]
  },
  {
   "cell_type": "code",
   "execution_count": null,
   "metadata": {},
   "outputs": [],
   "source": [
    "# skeletonize the cleaned binary image\n",
    "\n",
    "from skimage.morphology import skeletonize\n",
    "skel = skeletonize(op_cl)\n",
    "\n",
    "plt.figure(figsize=(18,7))\n",
    "\n",
    "plt.subplot(121)\n",
    "plt.imshow(op_cl[200:, 200:], cmap= 'gray')\n",
    "plt.axis('off')\n",
    "plt.title('opening after closing', fontsize=20)\n",
    "\n",
    "plt.subplot(122)\n",
    "plt.imshow(skel[200:, 200:], cmap= 'gray')\n",
    "plt.axis('off')\n",
    "plt.title('skeletonization', fontsize=20)\n",
    "plt.show()"
   ]
  },
  {
   "cell_type": "code",
   "execution_count": null,
   "metadata": {},
   "outputs": [],
   "source": [
    "# visualize skeleton in raw image\n",
    "from skimage import color\n",
    "img_c = np.uint8(0.5*np.copy(img))\n",
    "img_c[:,:,0] = 255 * skel\n",
    "\n",
    "plt.figure(figsize=(12,12))\n",
    "plt.imshow(img_c)\n",
    "plt.axis('off')\n",
    "plt.title('blood vessels with skeleton', fontsize=20)\n",
    "plt.show()"
   ]
  },
  {
   "cell_type": "markdown",
   "metadata": {},
   "source": [
    "### In class exercise: draw skeleton of river"
   ]
  },
  {
   "cell_type": "code",
   "execution_count": null,
   "metadata": {},
   "outputs": [],
   "source": [
    "img = imread('Tikhaya_river_c.jpg') #Image: Игорь Шпиленок\n",
    "gray = img[:,:,2]  # we use the blue channel as a BW image\n",
    "bw = (gray < 60)\n",
    "\n",
    "plt.figure(figsize=(17,24))\n",
    "plt.subplot(211)\n",
    "plt.imshow(img)\n",
    "plt.axis('off')\n",
    "plt.title('river in winter', fontsize=20)\n",
    "\n",
    "plt.subplot(212)\n",
    "plt.imshow(bw, cmap= 'gray')\n",
    "plt.axis('off')\n",
    "plt.title('binarized and inverted', fontsize=20)\n",
    "\n",
    "plt.show()"
   ]
  },
  {
   "cell_type": "code",
   "execution_count": null,
   "metadata": {},
   "outputs": [],
   "source": []
  }
 ],
 "metadata": {
  "kernelspec": {
   "display_name": "Python 3 (ipykernel)",
   "language": "python",
   "name": "python3"
  },
  "language_info": {
   "codemirror_mode": {
    "name": "ipython",
    "version": 3
   },
   "file_extension": ".py",
   "mimetype": "text/x-python",
   "name": "python",
   "nbconvert_exporter": "python",
   "pygments_lexer": "ipython3",
   "version": "3.7.13"
  }
 },
 "nbformat": 4,
 "nbformat_minor": 2
}
